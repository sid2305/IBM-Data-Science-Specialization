{
 "cells": [
  {
   "cell_type": "markdown",
   "metadata": {},
   "source": [
    "# Exploring venues in Indore, India"
   ]
  },
  {
   "cell_type": "markdown",
   "metadata": {
    "heading_collapsed": true
   },
   "source": [
    "## Table of Contents\n",
    "\n",
    "* [Introduction](#introduction)\n",
    "* [Data Collection from APIs](#data_collection)\n",
    "* [Data Cleaning](#data_cleaning)\n",
    "* [Methodolgy](#methodology)\n",
    "* [Analysis](#analysis)\n",
    "* [Results and Discussion](#results)\n",
    "* [Conclusion](#conclusion)"
   ]
  },
  {
   "cell_type": "markdown",
   "metadata": {
    "heading_collapsed": true
   },
   "source": [
    "## Introduction <a name=\"introduction\"></a>\n",
    "\n",
    "The aim of the project is to identify venues in Indore, Madhya Pradesh, India based on their rating and average prices. In this notebook, we will identify various venues in the city of **Indore, India**, using **Foursquare API** and **Zomato API**, to help visitors select the restaurants that suit them the best.\n",
    "\n",
    "Whenever a user is visiting a city they start looking for places to visit during their stay. They primarily look for places based on the venue ratings across all venues and the average prices such that the locations fits in their budget.\n",
    "\n",
    "Here, we'll **identify places that are fit for various individuals** based on the information collected from the two APIs using data science. Once we have the plot with the venues, any company can launch an application using the same data and suggest users such information."
   ]
  },
  {
   "cell_type": "markdown",
   "metadata": {},
   "source": [
    "## Data Collection from APIs <a name=\"data_collection\"></a>\n",
    "\n",
    "To begin with, we will take a look at **Indore on the Map** using the `folium` library.\n",
    "\n",
    "We will also fetch the data from **two different APIs**.\n",
    "* **Foursquare API:** We will use the Foursquare API to fetch venues in Indore starting from the middle upto 7 Kilometers in each direction.\n",
    "* **Zomato API:** The Zomato API provides information about various venues including the complete address, user ratings, price for two people, price range and a lot more."
   ]
  },
  {
   "cell_type": "markdown",
   "metadata": {},
   "source": [
    "### Indore\n",
    "\n",
    "**Indore** is composed of a number of sectors. There are many venues (especially restaurants, hotels and cafes) which can be explored.\n",
    "\n",
    "We are directly assigning the coordinates of indore in this project."
   ]
  },
  {
   "cell_type": "code",
   "execution_count": 92,
   "metadata": {},
   "outputs": [
    {
     "name": "stdout",
     "output_type": "stream",
     "text": [
      "The geograpical coordinates of Indore are 22.7196, 75.8577.\n"
     ]
    }
   ],
   "source": [
    "IDR_LATITUDE = 22.7196\n",
    "IDR_LONGITUDE = 75.8577\n",
    "print('The geograpical coordinates of Indore are {}, {}.'.format(CHD_LATITUDE, CHD_LONGITUDE))"
   ]
  },
  {
   "cell_type": "markdown",
   "metadata": {},
   "source": [
    "Let's use the `folium` library to create a **complete map zoomed on Indore**. We'll also plot a marker on the coordinates we just identified above. This would give us a relatively good look at the center point we will be considering. "
   ]
  },
  {
   "cell_type": "code",
   "execution_count": 93,
   "metadata": {},
   "outputs": [
    {
     "data": {
      "text/html": [
       "<div style=\"width:100%;\"><div style=\"position:relative;width:100%;height:0;padding-bottom:60%;\"><iframe src=\"data:text/html;charset=utf-8;base64,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\" style=\"position:absolute;width:100%;height:100%;left:0;top:0;border:none !important;\" allowfullscreen webkitallowfullscreen mozallowfullscreen></iframe></div></div>"
      ],
      "text/plain": [
       "<folium.folium.Map at 0x7f1050554630>"
      ]
     },
     "execution_count": 93,
     "metadata": {},
     "output_type": "execute_result"
    }
   ],
   "source": [
    "import folium\n",
    "\n",
    "indore_map = folium.Map(location = [IDR_LATITUDE, IDR_LONGITUDE], zoom_start = 13)\n",
    "folium.Marker([IDR_LATITUDE, IDR_LONGITUDE]).add_to(indore_map)\n",
    "indore_map"
   ]
  },
  {
   "cell_type": "markdown",
   "metadata": {},
   "source": [
    "### Foursquare API\n",
    "\n",
    "We begin by fetching a total of all venues in **Indore** upto a range of 4 Kilometers using the Foursquare API. The Foursquare API has the `explore` API which allows us to find venue recommendations within a given radius from the given coordinates. We will use this API to find all the venues we need."
   ]
  },
  {
   "cell_type": "code",
   "execution_count": 100,
   "metadata": {},
   "outputs": [],
   "source": [
    "#hidden cell\n",
    "FOURSQUARE_CLIENT_ID = 'DAQGXEQFWATQ5DHZVUP5IPBPM3CCDQVEQEVWNJPZWI1WFMHI' # your Foursquare ID\n",
    "FOURSQUARE_CLIENT_SECRET = '2XTKTRFJOB2S0HTEOJXKBL0Q3L3FJ2MUD2Z334E5TT0KYWS5' # your Foursquare Secret\n",
    "VERSION = '20200101' # Foursquare API version\n",
    "RADIUS = 5000 # 7 Km\n",
    "NO_OF_VENUES = 100"
   ]
  },
  {
   "cell_type": "markdown",
   "metadata": {},
   "source": [
    "We define the `get_category_type` method to get the correct category for each venue."
   ]
  },
  {
   "cell_type": "code",
   "execution_count": 101,
   "metadata": {},
   "outputs": [],
   "source": [
    "def get_category_type(row):\n",
    "    try:\n",
    "        categories_list = row['categories']\n",
    "    except:\n",
    "        categories_list = row['venue.categories']\n",
    "        \n",
    "    if len(categories_list) == 0:\n",
    "        return None\n",
    "    else:\n",
    "        return categories_list[0]['name']"
   ]
  },
  {
   "cell_type": "markdown",
   "metadata": {},
   "source": [
    "We'll call the API over and over till we get all venues from the API within the given distance. The maximum venues this API can fetch is 100, so we will fetch all venues by iteratively calling this API and increasing the offset each time.\n",
    "\n",
    "* Foursquare API requires client_id, and client_secret to function which can be accessed after creating a developer account. \n",
    "* We will set the radius as 7 Kilometers. \n",
    "* The version is a required parameter which defines the date on which we are browsing so that it retrieves the latest data."
   ]
  },
  {
   "cell_type": "code",
   "execution_count": 102,
   "metadata": {},
   "outputs": [
    {
     "name": "stdout",
     "output_type": "stream",
     "text": [
      "Total 61 venues fetched within a total radius of 5.0 Km\n",
      "\n",
      "Total 61 venues fetched\n"
     ]
    }
   ],
   "source": [
    "import numpy as np\n",
    "import pandas as pd\n",
    "\n",
    "import matplotlib.pyplot as plt\n",
    "import matplotlib.cm as cm\n",
    "import matplotlib.colors as colors\n",
    "\n",
    "from pandas.io.json import json_normalize\n",
    "import requests\n",
    "\n",
    "pd.set_option('display.max_rows', None)\n",
    "\n",
    "offset = 0\n",
    "total_venues = 0\n",
    "foursquare_venues = pd.DataFrame(columns = ['name', 'categories', 'lat', 'lng'])\n",
    "\n",
    "while (True):\n",
    "    url = ('https://api.foursquare.com/v2/venues/explore?client_id={}'\n",
    "           '&client_secret={}&v={}&ll={},{}&radius={}&limit={}&offset={}').format(FOURSQUARE_CLIENT_ID, \n",
    "                                                                        FOURSQUARE_CLIENT_SECRET, \n",
    "                                                                        VERSION, \n",
    "                                                                        CHD_LATITUDE, \n",
    "                                                                        CHD_LONGITUDE, \n",
    "                                                                        RADIUS,\n",
    "                                                                        NO_OF_VENUES,\n",
    "                                                                        offset)\n",
    "    result = requests.get(url).json()\n",
    "    venues_fetched = len(result['response']['groups'][0]['items'])\n",
    "    total_venues = total_venues + venues_fetched\n",
    "    print(\"Total {} venues fetched within a total radius of {} Km\".format(venues_fetched, RADIUS/1000))\n",
    "\n",
    "    venues = result['response']['groups'][0]['items']\n",
    "    venues = json_normalize(venues)\n",
    "\n",
    "    # Filter the columns\n",
    "    filtered_columns = ['venue.name', 'venue.categories', 'venue.location.lat', 'venue.location.lng']\n",
    "    venues = venues.loc[:, filtered_columns]\n",
    "\n",
    "    # Filter the category for each row\n",
    "    venues['venue.categories'] = venues.apply(get_category_type, axis = 1)\n",
    "\n",
    "    # Clean all column names\n",
    "    venues.columns = [col.split(\".\")[-1] for col in venues.columns]\n",
    "    foursquare_venues = pd.concat([foursquare_venues, venues], axis = 0, sort = False)\n",
    "    \n",
    "    if (venues_fetched < 100):\n",
    "        break\n",
    "    else:\n",
    "        offset = offset + 100\n",
    "\n",
    "foursquare_venues = foursquare_venues.reset_index(drop = True)\n",
    "print(\"\\nTotal {} venues fetched\".format(total_venues))"
   ]
  },
  {
   "cell_type": "markdown",
   "metadata": {},
   "source": [
    "### Zomato API\n",
    "\n",
    "The Zomato API allows using its search API to search for any given venue based on certain search filters such as query, latitude, longitude and more. Zomato also requires a Zomato user key which can be accessed with a developer account.\n",
    "\n",
    "We'll use the `name`, `lat`, and `lng` values of various venues fetched from Foursquare API to use the search API and get more information regarding each venue."
   ]
  },
  {
   "cell_type": "markdown",
   "metadata": {},
   "source": [
    "* The query will be the name of the venue.\n",
    "* The start defines from what offset we want to start, so we'll keep it at 0.\n",
    "* The count defines the number of restaurants we want to fetch. As we have the exact location coordinates, we'll fetch only one.\n",
    "* We will supply the latitude and longitude values.\n",
    "* We will set the sorting criteria as `real_distance` so each time we get the venue we're searching based on location coordinates."
   ]
  },
  {
   "cell_type": "code",
   "execution_count": 103,
   "metadata": {
    "scrolled": true
   },
   "outputs": [
    {
     "name": "stdout",
     "output_type": "stream",
     "text": [
      "Fetching data for venue: 1\n",
      "Fetching data for venue: 2\n",
      "Fetching data for venue: 3\n",
      "Fetching data for venue: 4\n",
      "Fetching data for venue: 5\n",
      "Fetching data for venue: 6\n",
      "Fetching data for venue: 7\n",
      "Fetching data for venue: 8\n",
      "Fetching data for venue: 9\n",
      "Fetching data for venue: 10\n",
      "Fetching data for venue: 11\n",
      "Fetching data for venue: 12\n",
      "Fetching data for venue: 13\n",
      "Fetching data for venue: 14\n",
      "Fetching data for venue: 15\n",
      "Fetching data for venue: 16\n",
      "Fetching data for venue: 17\n",
      "Fetching data for venue: 18\n",
      "Fetching data for venue: 19\n",
      "Fetching data for venue: 20\n",
      "Fetching data for venue: 21\n",
      "Fetching data for venue: 22\n",
      "Fetching data for venue: 23\n",
      "Fetching data for venue: 24\n",
      "Fetching data for venue: 25\n",
      "Fetching data for venue: 26\n",
      "Fetching data for venue: 27\n",
      "Fetching data for venue: 28\n",
      "Fetching data for venue: 29\n",
      "Fetching data for venue: 30\n",
      "Fetching data for venue: 31\n",
      "Fetching data for venue: 32\n",
      "Fetching data for venue: 33\n",
      "Fetching data for venue: 34\n",
      "Fetching data for venue: 35\n",
      "Fetching data for venue: 36\n",
      "Fetching data for venue: 37\n",
      "Fetching data for venue: 38\n",
      "Fetching data for venue: 39\n",
      "Fetching data for venue: 40\n",
      "Fetching data for venue: 41\n",
      "Fetching data for venue: 42\n",
      "Fetching data for venue: 43\n",
      "Fetching data for venue: 44\n",
      "Fetching data for venue: 45\n",
      "Fetching data for venue: 46\n",
      "Fetching data for venue: 47\n",
      "Fetching data for venue: 48\n",
      "Fetching data for venue: 49\n",
      "Fetching data for venue: 50\n",
      "Fetching data for venue: 51\n",
      "Fetching data for venue: 52\n",
      "Fetching data for venue: 53\n",
      "Fetching data for venue: 54\n",
      "Fetching data for venue: 55\n",
      "Fetching data for venue: 56\n",
      "Fetching data for venue: 57\n",
      "Fetching data for venue: 58\n",
      "Fetching data for venue: 59\n",
      "Fetching data for venue: 60\n",
      "Fetching data for venue: 61\n"
     ]
    }
   ],
   "source": [
    "headers = {'user-key': 'b3a1c26ed20422bfaae7ada558744e1f'}\n",
    "venues_information = []\n",
    "\n",
    "for index, row in foursquare_venues.iterrows():\n",
    "    print(\"Fetching data for venue: {}\".format(index + 1))\n",
    "    venue = []\n",
    "    url = ('https://developers.zomato.com/api/v2.1/search?q={}' + \n",
    "          '&start=0&count=1&lat={}&lon={}&sort=real_distance').format(row['name'], row['lat'], row['lng'])\n",
    "    result = requests.get(url, headers = headers).json()\n",
    "    if (len(result['restaurants']) > 0):\n",
    "        venue.append(result['restaurants'][0]['restaurant']['name'])\n",
    "        venue.append(result['restaurants'][0]['restaurant']['location']['latitude'])\n",
    "        venue.append(result['restaurants'][0]['restaurant']['location']['longitude'])\n",
    "        venue.append(result['restaurants'][0]['restaurant']['average_cost_for_two'])\n",
    "        venue.append(result['restaurants'][0]['restaurant']['price_range'])\n",
    "        venue.append(result['restaurants'][0]['restaurant']['user_rating']['aggregate_rating'])\n",
    "        venue.append(result['restaurants'][0]['restaurant']['location']['address'])\n",
    "        venues_information.append(venue)\n",
    "    else:\n",
    "        venues_information.append(np.zeros(6))\n",
    "    \n",
    "zomato_venues = pd.DataFrame(venues_information, \n",
    "                                  columns = ['venue', 'latitude', \n",
    "                                             'longitude', 'price_for_two', \n",
    "                                             'price_range', 'rating', 'address'])"
   ]
  },
  {
   "cell_type": "markdown",
   "metadata": {},
   "source": [
    "## Data Cleaning <a name=\"data_cleaning\"></a>\n",
    "\n",
    "The data from multiple resources might not always align. Thus, it is **important to combine the data retrieved from multiple resources properly**.\n",
    "\n",
    "We'll first plot the two data points on the map. We'll then try to combine data points that have their latitude and longitude values very close to one another. From the remaining selected venues, we will inspect the venues to ensure that any remaining mismatched venues are also removed from the final dataset of venues before we begin any analysis."
   ]
  },
  {
   "cell_type": "markdown",
   "metadata": {},
   "source": [
    "We will first plot the Foursquare data on the map."
   ]
  },
  {
   "cell_type": "code",
   "execution_count": 106,
   "metadata": {},
   "outputs": [
    {
     "data": {
      "text/html": [
       "<div style=\"width:100%;\"><div style=\"position:relative;width:100%;height:0;padding-bottom:60%;\"><iframe src=\"data:text/html;charset=utf-8;base64,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\" style=\"position:absolute;width:100%;height:100%;left:0;top:0;border:none !important;\" allowfullscreen webkitallowfullscreen mozallowfullscreen></iframe></div></div>"
      ],
      "text/plain": [
       "<folium.folium.Map at 0x7f10501ae710>"
      ]
     },
     "execution_count": 106,
     "metadata": {},
     "output_type": "execute_result"
    }
   ],
   "source": [
    "indore_map = folium.Map(location = [IDR_LATITUDE, IDR_LONGITUDE], zoom_start = 13)\n",
    "\n",
    "for name, latitude, longitude in zip(foursquare_venues['name'], foursquare_venues['lat'], foursquare_venues['lng']):\n",
    "    label = '{}'.format(name)\n",
    "    label = folium.Popup(label, parse_html = True)\n",
    "    folium.CircleMarker(\n",
    "        [latitude, longitude],\n",
    "        radius = 5,\n",
    "        popup = label,\n",
    "        color = 'green',\n",
    "        fill = True,\n",
    "        fill_color = '#3186cc',\n",
    "        fill_opacity = 0.7,\n",
    "        parse_html = False).add_to(indore_map)  \n",
    "\n",
    "indore_map"
   ]
  },
  {
   "cell_type": "markdown",
   "metadata": {},
   "source": [
    "From the map, we can infer that there are clusters of venues around **Mahatma Gandhi Marg** and **Race Course Road**. We can also plot the category count and see the major type of venues that exist."
   ]
  },
  {
   "cell_type": "markdown",
   "metadata": {},
   "source": [
    "We will also plot the Zomato data on the map."
   ]
  },
  {
   "cell_type": "code",
   "execution_count": 109,
   "metadata": {},
   "outputs": [
    {
     "name": "stdout",
     "output_type": "stream",
     "text": [
      "75.8722032979\n"
     ]
    },
    {
     "ename": "TypeError",
     "evalue": "must be real number, not str",
     "output_type": "error",
     "traceback": [
      "\u001b[0;31m---------------------------------------------------------------------------\u001b[0m",
      "\u001b[0;31mTypeError\u001b[0m                                 Traceback (most recent call last)",
      "\u001b[0;32m<ipython-input-109-db0016984e46>\u001b[0m in \u001b[0;36m<module>\u001b[0;34m\u001b[0m\n\u001b[1;32m     14\u001b[0m         \u001b[0mfill_color\u001b[0m \u001b[0;34m=\u001b[0m \u001b[0;34m'#3186cc'\u001b[0m\u001b[0;34m,\u001b[0m\u001b[0;34m\u001b[0m\u001b[0;34m\u001b[0m\u001b[0m\n\u001b[1;32m     15\u001b[0m         \u001b[0mfill_opacity\u001b[0m \u001b[0;34m=\u001b[0m \u001b[0;36m0.7\u001b[0m\u001b[0;34m,\u001b[0m\u001b[0;34m\u001b[0m\u001b[0;34m\u001b[0m\u001b[0m\n\u001b[0;32m---> 16\u001b[0;31m         parse_html = False).add_to(chandigarh_map)    \n\u001b[0m\u001b[1;32m     17\u001b[0m \u001b[0;34m\u001b[0m\u001b[0m\n\u001b[1;32m     18\u001b[0m \u001b[0;34m\u001b[0m\u001b[0m\n",
      "\u001b[0;32m~/conda/envs/python/lib/python3.6/site-packages/folium/features.py\u001b[0m in \u001b[0;36m__init__\u001b[0;34m(self, location, radius, popup, **kw)\u001b[0m\n\u001b[1;32m    868\u001b[0m     \"\"\"\n\u001b[1;32m    869\u001b[0m     \u001b[0;32mdef\u001b[0m \u001b[0m__init__\u001b[0m\u001b[0;34m(\u001b[0m\u001b[0mself\u001b[0m\u001b[0;34m,\u001b[0m \u001b[0mlocation\u001b[0m\u001b[0;34m,\u001b[0m \u001b[0mradius\u001b[0m\u001b[0;34m=\u001b[0m\u001b[0;36m10\u001b[0m\u001b[0;34m,\u001b[0m \u001b[0mpopup\u001b[0m\u001b[0;34m=\u001b[0m\u001b[0;32mNone\u001b[0m\u001b[0;34m,\u001b[0m \u001b[0;34m**\u001b[0m\u001b[0mkw\u001b[0m\u001b[0;34m)\u001b[0m\u001b[0;34m:\u001b[0m\u001b[0;34m\u001b[0m\u001b[0;34m\u001b[0m\u001b[0m\n\u001b[0;32m--> 870\u001b[0;31m         \u001b[0msuper\u001b[0m\u001b[0;34m(\u001b[0m\u001b[0mCircleMarker\u001b[0m\u001b[0;34m,\u001b[0m \u001b[0mself\u001b[0m\u001b[0;34m)\u001b[0m\u001b[0;34m.\u001b[0m\u001b[0m__init__\u001b[0m\u001b[0;34m(\u001b[0m\u001b[0mlocation\u001b[0m\u001b[0;34m=\u001b[0m\u001b[0mlocation\u001b[0m\u001b[0;34m,\u001b[0m \u001b[0mpopup\u001b[0m\u001b[0;34m=\u001b[0m\u001b[0mpopup\u001b[0m\u001b[0;34m)\u001b[0m\u001b[0;34m\u001b[0m\u001b[0;34m\u001b[0m\u001b[0m\n\u001b[0m\u001b[1;32m    871\u001b[0m         \u001b[0mself\u001b[0m\u001b[0;34m.\u001b[0m\u001b[0m_name\u001b[0m \u001b[0;34m=\u001b[0m \u001b[0;34m'CircleMarker'\u001b[0m\u001b[0;34m\u001b[0m\u001b[0;34m\u001b[0m\u001b[0m\n\u001b[1;32m    872\u001b[0m         \u001b[0moptions\u001b[0m \u001b[0;34m=\u001b[0m \u001b[0m_parse_path\u001b[0m\u001b[0;34m(\u001b[0m\u001b[0;34m**\u001b[0m\u001b[0mkw\u001b[0m\u001b[0;34m)\u001b[0m\u001b[0;34m\u001b[0m\u001b[0;34m\u001b[0m\u001b[0m\n",
      "\u001b[0;32m~/conda/envs/python/lib/python3.6/site-packages/folium/map.py\u001b[0m in \u001b[0;36m__init__\u001b[0;34m(self, location, popup, icon)\u001b[0m\n\u001b[1;32m    645\u001b[0m         \u001b[0;31m# Must be _validate_coordinates b/c some markers are defined with\u001b[0m\u001b[0;34m\u001b[0m\u001b[0;34m\u001b[0m\u001b[0;34m\u001b[0m\u001b[0m\n\u001b[1;32m    646\u001b[0m         \u001b[0;31m# multiple coordinates values, like Polygons.\u001b[0m\u001b[0;34m\u001b[0m\u001b[0;34m\u001b[0m\u001b[0;34m\u001b[0m\u001b[0m\n\u001b[0;32m--> 647\u001b[0;31m         \u001b[0mself\u001b[0m\u001b[0;34m.\u001b[0m\u001b[0mlocation\u001b[0m \u001b[0;34m=\u001b[0m \u001b[0m_validate_coordinates\u001b[0m\u001b[0;34m(\u001b[0m\u001b[0mlocation\u001b[0m\u001b[0;34m)\u001b[0m\u001b[0;34m\u001b[0m\u001b[0;34m\u001b[0m\u001b[0m\n\u001b[0m\u001b[1;32m    648\u001b[0m         \u001b[0;32mif\u001b[0m \u001b[0micon\u001b[0m \u001b[0;32mis\u001b[0m \u001b[0;32mnot\u001b[0m \u001b[0;32mNone\u001b[0m\u001b[0;34m:\u001b[0m\u001b[0;34m\u001b[0m\u001b[0;34m\u001b[0m\u001b[0m\n\u001b[1;32m    649\u001b[0m             \u001b[0mself\u001b[0m\u001b[0;34m.\u001b[0m\u001b[0madd_child\u001b[0m\u001b[0;34m(\u001b[0m\u001b[0micon\u001b[0m\u001b[0;34m)\u001b[0m\u001b[0;34m\u001b[0m\u001b[0;34m\u001b[0m\u001b[0m\n",
      "\u001b[0;32m~/conda/envs/python/lib/python3.6/site-packages/folium/utilities.py\u001b[0m in \u001b[0;36m_validate_coordinates\u001b[0;34m(coordinates)\u001b[0m\n\u001b[1;32m     44\u001b[0m \u001b[0;32mdef\u001b[0m \u001b[0m_validate_coordinates\u001b[0m\u001b[0;34m(\u001b[0m\u001b[0mcoordinates\u001b[0m\u001b[0;34m)\u001b[0m\u001b[0;34m:\u001b[0m\u001b[0;34m\u001b[0m\u001b[0;34m\u001b[0m\u001b[0m\n\u001b[1;32m     45\u001b[0m     \u001b[0;34m\"\"\"Validates multiple coordinates for the various markers in folium.\"\"\"\u001b[0m\u001b[0;34m\u001b[0m\u001b[0;34m\u001b[0m\u001b[0m\n\u001b[0;32m---> 46\u001b[0;31m     \u001b[0;32mif\u001b[0m \u001b[0m_isnan\u001b[0m\u001b[0;34m(\u001b[0m\u001b[0mcoordinates\u001b[0m\u001b[0;34m)\u001b[0m\u001b[0;34m:\u001b[0m\u001b[0;34m\u001b[0m\u001b[0;34m\u001b[0m\u001b[0m\n\u001b[0m\u001b[1;32m     47\u001b[0m         raise ValueError('Location values cannot contain NaNs, '\n\u001b[1;32m     48\u001b[0m                          'got:\\n{!r}'.format(coordinates))\n",
      "\u001b[0;32m~/conda/envs/python/lib/python3.6/site-packages/folium/utilities.py\u001b[0m in \u001b[0;36m_isnan\u001b[0;34m(values)\u001b[0m\n\u001b[1;32m     70\u001b[0m \u001b[0;32mdef\u001b[0m \u001b[0m_isnan\u001b[0m\u001b[0;34m(\u001b[0m\u001b[0mvalues\u001b[0m\u001b[0;34m)\u001b[0m\u001b[0;34m:\u001b[0m\u001b[0;34m\u001b[0m\u001b[0;34m\u001b[0m\u001b[0m\n\u001b[1;32m     71\u001b[0m     \u001b[0;34m\"\"\"Check if there are NaNs values in the iterable.\"\"\"\u001b[0m\u001b[0;34m\u001b[0m\u001b[0;34m\u001b[0m\u001b[0m\n\u001b[0;32m---> 72\u001b[0;31m     \u001b[0;32mreturn\u001b[0m \u001b[0many\u001b[0m\u001b[0;34m(\u001b[0m\u001b[0mmath\u001b[0m\u001b[0;34m.\u001b[0m\u001b[0misnan\u001b[0m\u001b[0;34m(\u001b[0m\u001b[0mvalue\u001b[0m\u001b[0;34m)\u001b[0m \u001b[0;32mfor\u001b[0m \u001b[0mvalue\u001b[0m \u001b[0;32min\u001b[0m \u001b[0m_flatten\u001b[0m\u001b[0;34m(\u001b[0m\u001b[0mvalues\u001b[0m\u001b[0;34m)\u001b[0m\u001b[0;34m)\u001b[0m\u001b[0;34m\u001b[0m\u001b[0;34m\u001b[0m\u001b[0m\n\u001b[0m\u001b[1;32m     73\u001b[0m \u001b[0;34m\u001b[0m\u001b[0m\n\u001b[1;32m     74\u001b[0m \u001b[0;34m\u001b[0m\u001b[0m\n",
      "\u001b[0;32m~/conda/envs/python/lib/python3.6/site-packages/folium/utilities.py\u001b[0m in \u001b[0;36m<genexpr>\u001b[0;34m(.0)\u001b[0m\n\u001b[1;32m     70\u001b[0m \u001b[0;32mdef\u001b[0m \u001b[0m_isnan\u001b[0m\u001b[0;34m(\u001b[0m\u001b[0mvalues\u001b[0m\u001b[0;34m)\u001b[0m\u001b[0;34m:\u001b[0m\u001b[0;34m\u001b[0m\u001b[0;34m\u001b[0m\u001b[0m\n\u001b[1;32m     71\u001b[0m     \u001b[0;34m\"\"\"Check if there are NaNs values in the iterable.\"\"\"\u001b[0m\u001b[0;34m\u001b[0m\u001b[0;34m\u001b[0m\u001b[0m\n\u001b[0;32m---> 72\u001b[0;31m     \u001b[0;32mreturn\u001b[0m \u001b[0many\u001b[0m\u001b[0;34m(\u001b[0m\u001b[0mmath\u001b[0m\u001b[0;34m.\u001b[0m\u001b[0misnan\u001b[0m\u001b[0;34m(\u001b[0m\u001b[0mvalue\u001b[0m\u001b[0;34m)\u001b[0m \u001b[0;32mfor\u001b[0m \u001b[0mvalue\u001b[0m \u001b[0;32min\u001b[0m \u001b[0m_flatten\u001b[0m\u001b[0;34m(\u001b[0m\u001b[0mvalues\u001b[0m\u001b[0;34m)\u001b[0m\u001b[0;34m)\u001b[0m\u001b[0;34m\u001b[0m\u001b[0;34m\u001b[0m\u001b[0m\n\u001b[0m\u001b[1;32m     73\u001b[0m \u001b[0;34m\u001b[0m\u001b[0m\n\u001b[1;32m     74\u001b[0m \u001b[0;34m\u001b[0m\u001b[0m\n",
      "\u001b[0;31mTypeError\u001b[0m: must be real number, not str"
     ]
    }
   ],
   "source": [
    "indore_map = folium.Map(location = [IDR_LATITUDE, IDR_LONGITUDE], zoom_start = 13)\n",
    "\n",
    "for venue, address, latitude, longitude in zip(zomato_venues['venue'], zomato_venues['address'], \n",
    "                                               zomato_venues['latitude'], zomato_venues['longitude']):\n",
    "    label = '{}, {}'.format(name, address)\n",
    "    label = folium.Popup(label, parse_html = True)\n",
    "    print(longitude)\n",
    "    folium.CircleMarker(\n",
    "        [latitude, longitude],\n",
    "        radius = 5,\n",
    "        popup = label,\n",
    "        color = 'green',\n",
    "        fill = True,\n",
    "        fill_color = '#3186cc',\n",
    "        fill_opacity = 0.7,\n",
    "        parse_html = False).add_to(Indore_map)    \n",
    "\n",
    "\n",
    "indore_map"
   ]
  },
  {
   "cell_type": "markdown",
   "metadata": {},
   "source": [
    "We can see that there are many venues identified by both Foursquare and Zomato. There is a lot of overlapping between the two near MG Marg and Race Course Road. However, there are others where the data does not match just like the red dots in the bottom right on the second map.\n",
    "\n",
    "To combine the two datasets, I'll have to check that the latitude and longitude values of each corresponding venue match. Thus, I'll round both the latitude and longitude values upto 4 decimal places. Then, I'll calculate the difference between the corresponding latitude and longitude values and see if the difference is less than 0.0004 which should ideally mean that the two locations are same."
   ]
  },
  {
   "cell_type": "code",
   "execution_count": 110,
   "metadata": {},
   "outputs": [],
   "source": [
    "foursquare_venues['lat'] = foursquare_venues['lat'].apply(lambda lat: round(float(lat), 4))\n",
    "foursquare_venues['lng'] = foursquare_venues['lng'].apply(lambda lng: round(float(lng), 4))\n",
    "zomato_venues['latitude'] = zomato_venues['latitude'].apply(lambda lat: round(float(lat), 4))\n",
    "zomato_venues['longitude'] = zomato_venues['longitude'].apply(lambda lng: round(float(lng), 4))"
   ]
  },
  {
   "cell_type": "code",
   "execution_count": 111,
   "metadata": {},
   "outputs": [],
   "source": [
    "dataset = pd.concat([foursquare_venues, zomato_venues], axis = 1)\n",
    "dataset['lat_diff'] = dataset['latitude'] - dataset['lat']\n",
    "dataset['lng_diff'] = dataset['longitude'] - dataset['lng']"
   ]
  },
  {
   "cell_type": "code",
   "execution_count": 112,
   "metadata": {},
   "outputs": [
    {
     "data": {
      "text/html": [
       "<div>\n",
       "<style scoped>\n",
       "    .dataframe tbody tr th:only-of-type {\n",
       "        vertical-align: middle;\n",
       "    }\n",
       "\n",
       "    .dataframe tbody tr th {\n",
       "        vertical-align: top;\n",
       "    }\n",
       "\n",
       "    .dataframe thead th {\n",
       "        text-align: right;\n",
       "    }\n",
       "</style>\n",
       "<table border=\"1\" class=\"dataframe\">\n",
       "  <thead>\n",
       "    <tr style=\"text-align: right;\">\n",
       "      <th></th>\n",
       "      <th>name</th>\n",
       "      <th>categories</th>\n",
       "      <th>lat</th>\n",
       "      <th>lng</th>\n",
       "      <th>venue</th>\n",
       "      <th>latitude</th>\n",
       "      <th>longitude</th>\n",
       "      <th>price_for_two</th>\n",
       "      <th>price_range</th>\n",
       "      <th>rating</th>\n",
       "      <th>address</th>\n",
       "      <th>lat_diff</th>\n",
       "      <th>lng_diff</th>\n",
       "    </tr>\n",
       "  </thead>\n",
       "  <tbody>\n",
       "    <tr>\n",
       "      <th>0</th>\n",
       "      <td>Shreemaya Hotel Indore</td>\n",
       "      <td>Hotel</td>\n",
       "      <td>22.7151</td>\n",
       "      <td>75.8746</td>\n",
       "      <td>Cheers Cafe</td>\n",
       "      <td>22.7152</td>\n",
       "      <td>75.8749</td>\n",
       "      <td>200.0</td>\n",
       "      <td>1.0</td>\n",
       "      <td>3.0</td>\n",
       "      <td>G-1/1, Sapna Chamber, 12/1, RNT Marg, Indore</td>\n",
       "      <td>0.0001</td>\n",
       "      <td>0.0003</td>\n",
       "    </tr>\n",
       "    <tr>\n",
       "      <th>1</th>\n",
       "      <td>56 Dukan</td>\n",
       "      <td>Plaza</td>\n",
       "      <td>22.7241</td>\n",
       "      <td>75.8848</td>\n",
       "      <td>Chaap Adda</td>\n",
       "      <td>22.7241</td>\n",
       "      <td>75.8848</td>\n",
       "      <td>300.0</td>\n",
       "      <td>1.0</td>\n",
       "      <td>3.6</td>\n",
       "      <td>Shop 56, Lower Ground 02, One Centre, New Pala...</td>\n",
       "      <td>0.0000</td>\n",
       "      <td>0.0000</td>\n",
       "    </tr>\n",
       "    <tr>\n",
       "      <th>2</th>\n",
       "      <td>Bablu Sandwich</td>\n",
       "      <td>Sandwich Place</td>\n",
       "      <td>22.7036</td>\n",
       "      <td>75.8554</td>\n",
       "      <td>Prem Prakash</td>\n",
       "      <td>22.7035</td>\n",
       "      <td>75.8555</td>\n",
       "      <td>350.0</td>\n",
       "      <td>2.0</td>\n",
       "      <td>3.7</td>\n",
       "      <td>Prem Nagar Square, Manik Bagh Overbridge Corne...</td>\n",
       "      <td>-0.0001</td>\n",
       "      <td>0.0001</td>\n",
       "    </tr>\n",
       "    <tr>\n",
       "      <th>3</th>\n",
       "      <td>Lotus Hut Cafe</td>\n",
       "      <td>Coffee Shop</td>\n",
       "      <td>22.7209</td>\n",
       "      <td>75.8759</td>\n",
       "      <td>Lotus Hut</td>\n",
       "      <td>22.7209</td>\n",
       "      <td>75.8759</td>\n",
       "      <td>350.0</td>\n",
       "      <td>2.0</td>\n",
       "      <td>3.9</td>\n",
       "      <td>17, MG Road, South Tukoganj, Indore</td>\n",
       "      <td>0.0000</td>\n",
       "      <td>0.0000</td>\n",
       "    </tr>\n",
       "    <tr>\n",
       "      <th>4</th>\n",
       "      <td>Top n town</td>\n",
       "      <td>Ice Cream Shop</td>\n",
       "      <td>22.7257</td>\n",
       "      <td>75.8774</td>\n",
       "      <td>Top 'N' Town</td>\n",
       "      <td>22.7257</td>\n",
       "      <td>75.8775</td>\n",
       "      <td>200.0</td>\n",
       "      <td>1.0</td>\n",
       "      <td>4.1</td>\n",
       "      <td>14/8, Race Course Road, YN Road, Indore</td>\n",
       "      <td>0.0000</td>\n",
       "      <td>0.0001</td>\n",
       "    </tr>\n",
       "    <tr>\n",
       "      <th>5</th>\n",
       "      <td>Ccd,apollo Square</td>\n",
       "      <td>Café</td>\n",
       "      <td>22.7264</td>\n",
       "      <td>75.8810</td>\n",
       "      <td>Cafe Coffee Day</td>\n",
       "      <td>22.7262</td>\n",
       "      <td>75.8810</td>\n",
       "      <td>500.0</td>\n",
       "      <td>2.0</td>\n",
       "      <td>3.7</td>\n",
       "      <td>Apollo Square, Race Course Road, Near Janjeerw...</td>\n",
       "      <td>-0.0002</td>\n",
       "      <td>0.0000</td>\n",
       "    </tr>\n",
       "    <tr>\n",
       "      <th>6</th>\n",
       "      <td>Tinku Ice Cream</td>\n",
       "      <td>Ice Cream Shop</td>\n",
       "      <td>22.7213</td>\n",
       "      <td>75.8739</td>\n",
       "      <td>Sheetal Gazak &amp; Kulfi</td>\n",
       "      <td>22.7209</td>\n",
       "      <td>75.8739</td>\n",
       "      <td>250.0</td>\n",
       "      <td>1.0</td>\n",
       "      <td>4.1</td>\n",
       "      <td>Near Rajani Bhawan, YN Road, Indore</td>\n",
       "      <td>-0.0004</td>\n",
       "      <td>0.0000</td>\n",
       "    </tr>\n",
       "    <tr>\n",
       "      <th>7</th>\n",
       "      <td>Cafe Palette</td>\n",
       "      <td>Café</td>\n",
       "      <td>22.7214</td>\n",
       "      <td>75.8875</td>\n",
       "      <td>Coksa Cafe</td>\n",
       "      <td>22.7214</td>\n",
       "      <td>75.8872</td>\n",
       "      <td>250.0</td>\n",
       "      <td>1.0</td>\n",
       "      <td>0</td>\n",
       "      <td>24/2, Manorama Ganj, Near Sanghi Motors, Geeta...</td>\n",
       "      <td>0.0000</td>\n",
       "      <td>-0.0003</td>\n",
       "    </tr>\n",
       "    <tr>\n",
       "      <th>8</th>\n",
       "      <td>Mr Beans</td>\n",
       "      <td>Cafeteria</td>\n",
       "      <td>22.7233</td>\n",
       "      <td>75.8969</td>\n",
       "      <td>Mr. Beans</td>\n",
       "      <td>22.7232</td>\n",
       "      <td>75.8967</td>\n",
       "      <td>800.0</td>\n",
       "      <td>3.0</td>\n",
       "      <td>4.3</td>\n",
       "      <td>100, Saket, Old Palasia, Indore</td>\n",
       "      <td>-0.0001</td>\n",
       "      <td>-0.0002</td>\n",
       "    </tr>\n",
       "    <tr>\n",
       "      <th>9</th>\n",
       "      <td>Celebrations Shreemaya</td>\n",
       "      <td>Restaurant</td>\n",
       "      <td>22.7153</td>\n",
       "      <td>75.8751</td>\n",
       "      <td>Hotel Shreemaya</td>\n",
       "      <td>22.7152</td>\n",
       "      <td>75.8750</td>\n",
       "      <td>1100.0</td>\n",
       "      <td>3.0</td>\n",
       "      <td>4.4</td>\n",
       "      <td>12, South Tukoganj, RNT Marg Indore</td>\n",
       "      <td>-0.0001</td>\n",
       "      <td>-0.0001</td>\n",
       "    </tr>\n",
       "    <tr>\n",
       "      <th>10</th>\n",
       "      <td>Sky Sheesha Lounge</td>\n",
       "      <td>Hookah Bar</td>\n",
       "      <td>22.7441</td>\n",
       "      <td>75.8946</td>\n",
       "      <td>Sky Blue Sports Bar</td>\n",
       "      <td>22.7441</td>\n",
       "      <td>75.8942</td>\n",
       "      <td>1800.0</td>\n",
       "      <td>4.0</td>\n",
       "      <td>3.5</td>\n",
       "      <td>3rd Floor, C21 Mall, AB Road, Vijay Nagar, Indore</td>\n",
       "      <td>0.0000</td>\n",
       "      <td>-0.0004</td>\n",
       "    </tr>\n",
       "    <tr>\n",
       "      <th>11</th>\n",
       "      <td>Cafe Coffee Day</td>\n",
       "      <td>Coffee Shop</td>\n",
       "      <td>22.6975</td>\n",
       "      <td>75.8772</td>\n",
       "      <td>Cafe Coffee Day</td>\n",
       "      <td>22.6977</td>\n",
       "      <td>75.8772</td>\n",
       "      <td>500.0</td>\n",
       "      <td>2.0</td>\n",
       "      <td>3.7</td>\n",
       "      <td>BCM City Building, AB Road, Near Navalakha Squ...</td>\n",
       "      <td>0.0002</td>\n",
       "      <td>0.0000</td>\n",
       "    </tr>\n",
       "    <tr>\n",
       "      <th>12</th>\n",
       "      <td>Subway</td>\n",
       "      <td>Sandwich Place</td>\n",
       "      <td>22.7445</td>\n",
       "      <td>75.8942</td>\n",
       "      <td>Subway</td>\n",
       "      <td>22.7447</td>\n",
       "      <td>75.8942</td>\n",
       "      <td>500.0</td>\n",
       "      <td>2.0</td>\n",
       "      <td>3.9</td>\n",
       "      <td>Ground Floor, Malhar Mega Mall, Vijay Nagar, I...</td>\n",
       "      <td>0.0002</td>\n",
       "      <td>0.0000</td>\n",
       "    </tr>\n",
       "    <tr>\n",
       "      <th>13</th>\n",
       "      <td>Shoppers Stop Indore</td>\n",
       "      <td>Shopping Mall</td>\n",
       "      <td>22.7362</td>\n",
       "      <td>75.8910</td>\n",
       "      <td>Cafe Coffee Day</td>\n",
       "      <td>22.7362</td>\n",
       "      <td>75.8911</td>\n",
       "      <td>500.0</td>\n",
       "      <td>2.0</td>\n",
       "      <td>3.3</td>\n",
       "      <td>Inside Hotel Ginger, Near Shoppers Stop Buildi...</td>\n",
       "      <td>0.0000</td>\n",
       "      <td>0.0001</td>\n",
       "    </tr>\n",
       "    <tr>\n",
       "      <th>14</th>\n",
       "      <td>Malhar Mega Mall</td>\n",
       "      <td>Shopping Mall</td>\n",
       "      <td>22.7446</td>\n",
       "      <td>75.8945</td>\n",
       "      <td>Youth Adda</td>\n",
       "      <td>22.7447</td>\n",
       "      <td>75.8944</td>\n",
       "      <td>250.0</td>\n",
       "      <td>1.0</td>\n",
       "      <td>2.5</td>\n",
       "      <td>Malhar Mega Mall, 3rd Floor, Vijay Nagar, Indore</td>\n",
       "      <td>0.0001</td>\n",
       "      <td>-0.0001</td>\n",
       "    </tr>\n",
       "    <tr>\n",
       "      <th>15</th>\n",
       "      <td>The Roof</td>\n",
       "      <td>Indian Restaurant</td>\n",
       "      <td>22.7241</td>\n",
       "      <td>75.8855</td>\n",
       "      <td>The Roof</td>\n",
       "      <td>22.7240</td>\n",
       "      <td>75.8856</td>\n",
       "      <td>900.0</td>\n",
       "      <td>3.0</td>\n",
       "      <td>3.5</td>\n",
       "      <td>Hotel Kanchan Tilak, 582/2, MG Road, New Palas...</td>\n",
       "      <td>-0.0001</td>\n",
       "      <td>0.0001</td>\n",
       "    </tr>\n",
       "    <tr>\n",
       "      <th>16</th>\n",
       "      <td>Chaibar</td>\n",
       "      <td>Tea Room</td>\n",
       "      <td>22.7254</td>\n",
       "      <td>75.8829</td>\n",
       "      <td>The Chai Bar</td>\n",
       "      <td>22.7253</td>\n",
       "      <td>75.8830</td>\n",
       "      <td>300.0</td>\n",
       "      <td>1.0</td>\n",
       "      <td>3.9</td>\n",
       "      <td>G 1, Chetak Vihar, 7 R.S Bhandari Marg, Near 5...</td>\n",
       "      <td>-0.0001</td>\n",
       "      <td>0.0001</td>\n",
       "    </tr>\n",
       "    <tr>\n",
       "      <th>17</th>\n",
       "      <td>10 downing street</td>\n",
       "      <td>Pub</td>\n",
       "      <td>22.7444</td>\n",
       "      <td>75.8943</td>\n",
       "      <td>10 Downing Street</td>\n",
       "      <td>22.7447</td>\n",
       "      <td>75.8944</td>\n",
       "      <td>1500.0</td>\n",
       "      <td>4.0</td>\n",
       "      <td>4.1</td>\n",
       "      <td>Second Floor, Malhar Mega Mall, AB Road, Schem...</td>\n",
       "      <td>0.0003</td>\n",
       "      <td>0.0001</td>\n",
       "    </tr>\n",
       "    <tr>\n",
       "      <th>18</th>\n",
       "      <td>Johney Hot-Dog</td>\n",
       "      <td>Hot Dog Joint</td>\n",
       "      <td>22.7246</td>\n",
       "      <td>75.8845</td>\n",
       "      <td>Johny Hot Dog</td>\n",
       "      <td>22.7245</td>\n",
       "      <td>75.8844</td>\n",
       "      <td>150.0</td>\n",
       "      <td>1.0</td>\n",
       "      <td>4.6</td>\n",
       "      <td>Shop UD-49-50-51, Arcade Silver 56/1, New Pala...</td>\n",
       "      <td>-0.0001</td>\n",
       "      <td>-0.0001</td>\n",
       "    </tr>\n",
       "    <tr>\n",
       "      <th>19</th>\n",
       "      <td>Chappan</td>\n",
       "      <td>Snack Place</td>\n",
       "      <td>22.7247</td>\n",
       "      <td>75.8837</td>\n",
       "      <td>Dosa Centre</td>\n",
       "      <td>22.7245</td>\n",
       "      <td>75.8839</td>\n",
       "      <td>200.0</td>\n",
       "      <td>1.0</td>\n",
       "      <td>3.4</td>\n",
       "      <td>26, Asharam Complex, Near 56 Dukan, New Palasi...</td>\n",
       "      <td>-0.0002</td>\n",
       "      <td>0.0002</td>\n",
       "    </tr>\n",
       "    <tr>\n",
       "      <th>20</th>\n",
       "      <td>saket pan conner</td>\n",
       "      <td>Dessert Shop</td>\n",
       "      <td>22.7254</td>\n",
       "      <td>75.8949</td>\n",
       "      <td>Behrouz Biryani</td>\n",
       "      <td>22.7255</td>\n",
       "      <td>75.8949</td>\n",
       "      <td>700.0</td>\n",
       "      <td>2.0</td>\n",
       "      <td>4.3</td>\n",
       "      <td>UG 8, Amar Darshan Building, Khajrana Main Roa...</td>\n",
       "      <td>0.0001</td>\n",
       "      <td>0.0000</td>\n",
       "    </tr>\n",
       "    <tr>\n",
       "      <th>21</th>\n",
       "      <td>Nafees Restaurant</td>\n",
       "      <td>Indian Restaurant</td>\n",
       "      <td>22.7257</td>\n",
       "      <td>75.8881</td>\n",
       "      <td>Nafees Cakes &amp; Grills</td>\n",
       "      <td>22.7257</td>\n",
       "      <td>75.8881</td>\n",
       "      <td>500.0</td>\n",
       "      <td>2.0</td>\n",
       "      <td>3.8</td>\n",
       "      <td>30 B, Apollo Avenue, Old Palasia, Indore</td>\n",
       "      <td>0.0000</td>\n",
       "      <td>0.0000</td>\n",
       "    </tr>\n",
       "    <tr>\n",
       "      <th>22</th>\n",
       "      <td>Crown Palace</td>\n",
       "      <td>Indian Restaurant</td>\n",
       "      <td>22.7195</td>\n",
       "      <td>75.8836</td>\n",
       "      <td>Bake Well Bakery Shop</td>\n",
       "      <td>22.7196</td>\n",
       "      <td>75.8836</td>\n",
       "      <td>300.0</td>\n",
       "      <td>1.0</td>\n",
       "      <td>3.7</td>\n",
       "      <td>2-A, Hotel Crown Palace, Kanchan Bagh, Near Ge...</td>\n",
       "      <td>0.0001</td>\n",
       "      <td>0.0000</td>\n",
       "    </tr>\n",
       "    <tr>\n",
       "      <th>23</th>\n",
       "      <td>Bake well</td>\n",
       "      <td>Café</td>\n",
       "      <td>22.7195</td>\n",
       "      <td>75.8835</td>\n",
       "      <td>Cafe Bake Well</td>\n",
       "      <td>22.7196</td>\n",
       "      <td>75.8835</td>\n",
       "      <td>600.0</td>\n",
       "      <td>2.0</td>\n",
       "      <td>3.9</td>\n",
       "      <td>2-A, Hotel Crown Palace, Kanchan Bagh, Near Ge...</td>\n",
       "      <td>0.0001</td>\n",
       "      <td>0.0000</td>\n",
       "    </tr>\n",
       "    <tr>\n",
       "      <th>24</th>\n",
       "      <td>Sreemaya</td>\n",
       "      <td>Indian Restaurant</td>\n",
       "      <td>22.7399</td>\n",
       "      <td>75.8924</td>\n",
       "      <td>Shreemaya Celebrity</td>\n",
       "      <td>22.7398</td>\n",
       "      <td>75.8922</td>\n",
       "      <td>500.0</td>\n",
       "      <td>2.0</td>\n",
       "      <td>4.4</td>\n",
       "      <td>Hotel Shreemaya, AB Road, Press Complex, Indore</td>\n",
       "      <td>-0.0001</td>\n",
       "      <td>-0.0002</td>\n",
       "    </tr>\n",
       "    <tr>\n",
       "      <th>25</th>\n",
       "      <td>Pizza Hut</td>\n",
       "      <td>Pizza Place</td>\n",
       "      <td>22.7447</td>\n",
       "      <td>75.8940</td>\n",
       "      <td>Pizza Hut</td>\n",
       "      <td>22.7447</td>\n",
       "      <td>75.8941</td>\n",
       "      <td>600.0</td>\n",
       "      <td>2.0</td>\n",
       "      <td>3.6</td>\n",
       "      <td>Anchor 1, II Floor, Malhar Mega Mall, Vijay Na...</td>\n",
       "      <td>0.0000</td>\n",
       "      <td>0.0001</td>\n",
       "    </tr>\n",
       "    <tr>\n",
       "      <th>26</th>\n",
       "      <td>KFC</td>\n",
       "      <td>Fast Food Restaurant</td>\n",
       "      <td>22.7446</td>\n",
       "      <td>75.8939</td>\n",
       "      <td>KFC</td>\n",
       "      <td>22.7446</td>\n",
       "      <td>75.8939</td>\n",
       "      <td>450.0</td>\n",
       "      <td>2.0</td>\n",
       "      <td>4.1</td>\n",
       "      <td>Malhar Mega Mall, Vijay Nagar, Indore</td>\n",
       "      <td>0.0000</td>\n",
       "      <td>0.0000</td>\n",
       "    </tr>\n",
       "    <tr>\n",
       "      <th>27</th>\n",
       "      <td>C21</td>\n",
       "      <td>Shopping Mall</td>\n",
       "      <td>22.7440</td>\n",
       "      <td>75.8942</td>\n",
       "      <td>Sky Blue Sports Bar</td>\n",
       "      <td>22.7441</td>\n",
       "      <td>75.8942</td>\n",
       "      <td>1800.0</td>\n",
       "      <td>4.0</td>\n",
       "      <td>3.5</td>\n",
       "      <td>3rd Floor, C21 Mall, AB Road, Vijay Nagar, Indore</td>\n",
       "      <td>0.0001</td>\n",
       "      <td>0.0000</td>\n",
       "    </tr>\n",
       "    <tr>\n",
       "      <th>28</th>\n",
       "      <td>Inox</td>\n",
       "      <td>Multiplex</td>\n",
       "      <td>22.6993</td>\n",
       "      <td>75.8669</td>\n",
       "      <td>Apna Sweets</td>\n",
       "      <td>22.6997</td>\n",
       "      <td>75.8668</td>\n",
       "      <td>500.0</td>\n",
       "      <td>2.0</td>\n",
       "      <td>4.1</td>\n",
       "      <td>Opposite INOX, Sapna Sangeeta, Indore</td>\n",
       "      <td>0.0004</td>\n",
       "      <td>-0.0001</td>\n",
       "    </tr>\n",
       "  </tbody>\n",
       "</table>\n",
       "</div>"
      ],
      "text/plain": [
       "                      name            categories      lat      lng  \\\n",
       "0   Shreemaya Hotel Indore                 Hotel  22.7151  75.8746   \n",
       "1                 56 Dukan                 Plaza  22.7241  75.8848   \n",
       "2           Bablu Sandwich        Sandwich Place  22.7036  75.8554   \n",
       "3           Lotus Hut Cafe           Coffee Shop  22.7209  75.8759   \n",
       "4               Top n town        Ice Cream Shop  22.7257  75.8774   \n",
       "5        Ccd,apollo Square                  Café  22.7264  75.8810   \n",
       "6          Tinku Ice Cream        Ice Cream Shop  22.7213  75.8739   \n",
       "7             Cafe Palette                  Café  22.7214  75.8875   \n",
       "8                 Mr Beans             Cafeteria  22.7233  75.8969   \n",
       "9   Celebrations Shreemaya            Restaurant  22.7153  75.8751   \n",
       "10      Sky Sheesha Lounge            Hookah Bar  22.7441  75.8946   \n",
       "11         Cafe Coffee Day           Coffee Shop  22.6975  75.8772   \n",
       "12                  Subway        Sandwich Place  22.7445  75.8942   \n",
       "13    Shoppers Stop Indore         Shopping Mall  22.7362  75.8910   \n",
       "14        Malhar Mega Mall         Shopping Mall  22.7446  75.8945   \n",
       "15                The Roof     Indian Restaurant  22.7241  75.8855   \n",
       "16                 Chaibar              Tea Room  22.7254  75.8829   \n",
       "17       10 downing street                   Pub  22.7444  75.8943   \n",
       "18          Johney Hot-Dog         Hot Dog Joint  22.7246  75.8845   \n",
       "19                 Chappan           Snack Place  22.7247  75.8837   \n",
       "20        saket pan conner          Dessert Shop  22.7254  75.8949   \n",
       "21       Nafees Restaurant     Indian Restaurant  22.7257  75.8881   \n",
       "22            Crown Palace     Indian Restaurant  22.7195  75.8836   \n",
       "23               Bake well                  Café  22.7195  75.8835   \n",
       "24                Sreemaya     Indian Restaurant  22.7399  75.8924   \n",
       "25               Pizza Hut           Pizza Place  22.7447  75.8940   \n",
       "26                     KFC  Fast Food Restaurant  22.7446  75.8939   \n",
       "27                     C21         Shopping Mall  22.7440  75.8942   \n",
       "28                    Inox             Multiplex  22.6993  75.8669   \n",
       "\n",
       "                    venue  latitude  longitude  price_for_two  price_range  \\\n",
       "0             Cheers Cafe   22.7152    75.8749          200.0          1.0   \n",
       "1              Chaap Adda   22.7241    75.8848          300.0          1.0   \n",
       "2            Prem Prakash   22.7035    75.8555          350.0          2.0   \n",
       "3               Lotus Hut   22.7209    75.8759          350.0          2.0   \n",
       "4            Top 'N' Town   22.7257    75.8775          200.0          1.0   \n",
       "5         Cafe Coffee Day   22.7262    75.8810          500.0          2.0   \n",
       "6   Sheetal Gazak & Kulfi   22.7209    75.8739          250.0          1.0   \n",
       "7              Coksa Cafe   22.7214    75.8872          250.0          1.0   \n",
       "8               Mr. Beans   22.7232    75.8967          800.0          3.0   \n",
       "9         Hotel Shreemaya   22.7152    75.8750         1100.0          3.0   \n",
       "10    Sky Blue Sports Bar   22.7441    75.8942         1800.0          4.0   \n",
       "11        Cafe Coffee Day   22.6977    75.8772          500.0          2.0   \n",
       "12                 Subway   22.7447    75.8942          500.0          2.0   \n",
       "13        Cafe Coffee Day   22.7362    75.8911          500.0          2.0   \n",
       "14             Youth Adda   22.7447    75.8944          250.0          1.0   \n",
       "15               The Roof   22.7240    75.8856          900.0          3.0   \n",
       "16           The Chai Bar   22.7253    75.8830          300.0          1.0   \n",
       "17      10 Downing Street   22.7447    75.8944         1500.0          4.0   \n",
       "18          Johny Hot Dog   22.7245    75.8844          150.0          1.0   \n",
       "19            Dosa Centre   22.7245    75.8839          200.0          1.0   \n",
       "20        Behrouz Biryani   22.7255    75.8949          700.0          2.0   \n",
       "21  Nafees Cakes & Grills   22.7257    75.8881          500.0          2.0   \n",
       "22  Bake Well Bakery Shop   22.7196    75.8836          300.0          1.0   \n",
       "23         Cafe Bake Well   22.7196    75.8835          600.0          2.0   \n",
       "24    Shreemaya Celebrity   22.7398    75.8922          500.0          2.0   \n",
       "25              Pizza Hut   22.7447    75.8941          600.0          2.0   \n",
       "26                    KFC   22.7446    75.8939          450.0          2.0   \n",
       "27    Sky Blue Sports Bar   22.7441    75.8942         1800.0          4.0   \n",
       "28            Apna Sweets   22.6997    75.8668          500.0          2.0   \n",
       "\n",
       "   rating                                            address  lat_diff  \\\n",
       "0     3.0       G-1/1, Sapna Chamber, 12/1, RNT Marg, Indore    0.0001   \n",
       "1     3.6  Shop 56, Lower Ground 02, One Centre, New Pala...    0.0000   \n",
       "2     3.7  Prem Nagar Square, Manik Bagh Overbridge Corne...   -0.0001   \n",
       "3     3.9                17, MG Road, South Tukoganj, Indore    0.0000   \n",
       "4     4.1            14/8, Race Course Road, YN Road, Indore    0.0000   \n",
       "5     3.7  Apollo Square, Race Course Road, Near Janjeerw...   -0.0002   \n",
       "6     4.1                Near Rajani Bhawan, YN Road, Indore   -0.0004   \n",
       "7       0  24/2, Manorama Ganj, Near Sanghi Motors, Geeta...    0.0000   \n",
       "8     4.3                    100, Saket, Old Palasia, Indore   -0.0001   \n",
       "9     4.4                12, South Tukoganj, RNT Marg Indore   -0.0001   \n",
       "10    3.5  3rd Floor, C21 Mall, AB Road, Vijay Nagar, Indore    0.0000   \n",
       "11    3.7  BCM City Building, AB Road, Near Navalakha Squ...    0.0002   \n",
       "12    3.9  Ground Floor, Malhar Mega Mall, Vijay Nagar, I...    0.0002   \n",
       "13    3.3  Inside Hotel Ginger, Near Shoppers Stop Buildi...    0.0000   \n",
       "14    2.5   Malhar Mega Mall, 3rd Floor, Vijay Nagar, Indore    0.0001   \n",
       "15    3.5  Hotel Kanchan Tilak, 582/2, MG Road, New Palas...   -0.0001   \n",
       "16    3.9  G 1, Chetak Vihar, 7 R.S Bhandari Marg, Near 5...   -0.0001   \n",
       "17    4.1  Second Floor, Malhar Mega Mall, AB Road, Schem...    0.0003   \n",
       "18    4.6  Shop UD-49-50-51, Arcade Silver 56/1, New Pala...   -0.0001   \n",
       "19    3.4  26, Asharam Complex, Near 56 Dukan, New Palasi...   -0.0002   \n",
       "20    4.3  UG 8, Amar Darshan Building, Khajrana Main Roa...    0.0001   \n",
       "21    3.8           30 B, Apollo Avenue, Old Palasia, Indore    0.0000   \n",
       "22    3.7  2-A, Hotel Crown Palace, Kanchan Bagh, Near Ge...    0.0001   \n",
       "23    3.9  2-A, Hotel Crown Palace, Kanchan Bagh, Near Ge...    0.0001   \n",
       "24    4.4    Hotel Shreemaya, AB Road, Press Complex, Indore   -0.0001   \n",
       "25    3.6  Anchor 1, II Floor, Malhar Mega Mall, Vijay Na...    0.0000   \n",
       "26    4.1              Malhar Mega Mall, Vijay Nagar, Indore    0.0000   \n",
       "27    3.5  3rd Floor, C21 Mall, AB Road, Vijay Nagar, Indore    0.0001   \n",
       "28    4.1              Opposite INOX, Sapna Sangeeta, Indore    0.0004   \n",
       "\n",
       "    lng_diff  \n",
       "0     0.0003  \n",
       "1     0.0000  \n",
       "2     0.0001  \n",
       "3     0.0000  \n",
       "4     0.0001  \n",
       "5     0.0000  \n",
       "6     0.0000  \n",
       "7    -0.0003  \n",
       "8    -0.0002  \n",
       "9    -0.0001  \n",
       "10   -0.0004  \n",
       "11    0.0000  \n",
       "12    0.0000  \n",
       "13    0.0001  \n",
       "14   -0.0001  \n",
       "15    0.0001  \n",
       "16    0.0001  \n",
       "17    0.0001  \n",
       "18   -0.0001  \n",
       "19    0.0002  \n",
       "20    0.0000  \n",
       "21    0.0000  \n",
       "22    0.0000  \n",
       "23    0.0000  \n",
       "24   -0.0002  \n",
       "25    0.0001  \n",
       "26    0.0000  \n",
       "27    0.0000  \n",
       "28   -0.0001  "
      ]
     },
     "execution_count": 112,
     "metadata": {},
     "output_type": "execute_result"
    }
   ],
   "source": [
    "selected_venues = dataset[(abs(dataset['lat_diff']) <= 0.0004) & (abs(dataset['lng_diff']) <= 0.0004)].reset_index(drop = True)\n",
    "selected_venues"
   ]
  },
  {
   "cell_type": "markdown",
   "metadata": {},
   "source": [
    "Taking a look at the names of venues from both APIs, some names are a complete mismatch.\n",
    "\n",
    "**Category 1:** There are venues that have specific restaurants/cafes inside them as provided by Zomato API .\n",
    "\n",
    "**Category 2:** Two locations are so close by that they have practically same latitude and longitude values \n",
    "\n",
    "**Category 3:** Some have been replaced with new restaurants.\n",
    "\n",
    "The venues which belong to category 1 and category 3 are alright to keep, the venues that fall in category 2 should be removed."
   ]
  },
  {
   "cell_type": "code",
   "execution_count": 113,
   "metadata": {},
   "outputs": [],
   "source": [
    "selected_venues = selected_venues.drop([0, 3, 5, 9, 12, 14, 17, 19, 21]).reset_index(drop = True)"
   ]
  },
  {
   "cell_type": "markdown",
   "metadata": {},
   "source": [
    "I'll now select the venue name from **Zomato API**. I'll also get the average price per person by dividing the column `price_for_two` by 2 and removing this column from the dataset along with other unnecessary columns."
   ]
  },
  {
   "cell_type": "code",
   "execution_count": 114,
   "metadata": {},
   "outputs": [],
   "source": [
    "selected_venues['average_price'] = selected_venues['price_for_two']/2\n",
    "selected_venues = selected_venues.drop(columns = ['name', 'lat', 'lng', 'lat_diff', 'lng_diff', 'price_for_two'])"
   ]
  },
  {
   "cell_type": "markdown",
   "metadata": {},
   "source": [
    "Let's take a look at the final dataset that is left with us."
   ]
  },
  {
   "cell_type": "code",
   "execution_count": 115,
   "metadata": {},
   "outputs": [
    {
     "data": {
      "text/html": [
       "<div>\n",
       "<style scoped>\n",
       "    .dataframe tbody tr th:only-of-type {\n",
       "        vertical-align: middle;\n",
       "    }\n",
       "\n",
       "    .dataframe tbody tr th {\n",
       "        vertical-align: top;\n",
       "    }\n",
       "\n",
       "    .dataframe thead th {\n",
       "        text-align: right;\n",
       "    }\n",
       "</style>\n",
       "<table border=\"1\" class=\"dataframe\">\n",
       "  <thead>\n",
       "    <tr style=\"text-align: right;\">\n",
       "      <th></th>\n",
       "      <th>categories</th>\n",
       "      <th>venue</th>\n",
       "      <th>latitude</th>\n",
       "      <th>longitude</th>\n",
       "      <th>price_range</th>\n",
       "      <th>rating</th>\n",
       "      <th>address</th>\n",
       "      <th>average_price</th>\n",
       "    </tr>\n",
       "  </thead>\n",
       "  <tbody>\n",
       "    <tr>\n",
       "      <th>0</th>\n",
       "      <td>Plaza</td>\n",
       "      <td>Chaap Adda</td>\n",
       "      <td>22.7241</td>\n",
       "      <td>75.8848</td>\n",
       "      <td>1.0</td>\n",
       "      <td>3.6</td>\n",
       "      <td>Shop 56, Lower Ground 02, One Centre, New Pala...</td>\n",
       "      <td>150.0</td>\n",
       "    </tr>\n",
       "    <tr>\n",
       "      <th>1</th>\n",
       "      <td>Sandwich Place</td>\n",
       "      <td>Prem Prakash</td>\n",
       "      <td>22.7035</td>\n",
       "      <td>75.8555</td>\n",
       "      <td>2.0</td>\n",
       "      <td>3.7</td>\n",
       "      <td>Prem Nagar Square, Manik Bagh Overbridge Corne...</td>\n",
       "      <td>175.0</td>\n",
       "    </tr>\n",
       "    <tr>\n",
       "      <th>2</th>\n",
       "      <td>Ice Cream Shop</td>\n",
       "      <td>Top 'N' Town</td>\n",
       "      <td>22.7257</td>\n",
       "      <td>75.8775</td>\n",
       "      <td>1.0</td>\n",
       "      <td>4.1</td>\n",
       "      <td>14/8, Race Course Road, YN Road, Indore</td>\n",
       "      <td>100.0</td>\n",
       "    </tr>\n",
       "    <tr>\n",
       "      <th>3</th>\n",
       "      <td>Ice Cream Shop</td>\n",
       "      <td>Sheetal Gazak &amp; Kulfi</td>\n",
       "      <td>22.7209</td>\n",
       "      <td>75.8739</td>\n",
       "      <td>1.0</td>\n",
       "      <td>4.1</td>\n",
       "      <td>Near Rajani Bhawan, YN Road, Indore</td>\n",
       "      <td>125.0</td>\n",
       "    </tr>\n",
       "    <tr>\n",
       "      <th>4</th>\n",
       "      <td>Café</td>\n",
       "      <td>Coksa Cafe</td>\n",
       "      <td>22.7214</td>\n",
       "      <td>75.8872</td>\n",
       "      <td>1.0</td>\n",
       "      <td>0</td>\n",
       "      <td>24/2, Manorama Ganj, Near Sanghi Motors, Geeta...</td>\n",
       "      <td>125.0</td>\n",
       "    </tr>\n",
       "  </tbody>\n",
       "</table>\n",
       "</div>"
      ],
      "text/plain": [
       "       categories                  venue  latitude  longitude  price_range  \\\n",
       "0           Plaza             Chaap Adda   22.7241    75.8848          1.0   \n",
       "1  Sandwich Place           Prem Prakash   22.7035    75.8555          2.0   \n",
       "2  Ice Cream Shop           Top 'N' Town   22.7257    75.8775          1.0   \n",
       "3  Ice Cream Shop  Sheetal Gazak & Kulfi   22.7209    75.8739          1.0   \n",
       "4            Café             Coksa Cafe   22.7214    75.8872          1.0   \n",
       "\n",
       "  rating                                            address  average_price  \n",
       "0    3.6  Shop 56, Lower Ground 02, One Centre, New Pala...          150.0  \n",
       "1    3.7  Prem Nagar Square, Manik Bagh Overbridge Corne...          175.0  \n",
       "2    4.1            14/8, Race Course Road, YN Road, Indore          100.0  \n",
       "3    4.1                Near Rajani Bhawan, YN Road, Indore          125.0  \n",
       "4      0  24/2, Manorama Ganj, Near Sanghi Motors, Geeta...          125.0  "
      ]
     },
     "execution_count": 115,
     "metadata": {},
     "output_type": "execute_result"
    }
   ],
   "source": [
    "selected_venues.head(5)"
   ]
  },
  {
   "cell_type": "markdown",
   "metadata": {},
   "source": [
    "I'll drop the venues which have `0.0` rating as it means it's not been rated yet."
   ]
  },
  {
   "cell_type": "code",
   "execution_count": 116,
   "metadata": {},
   "outputs": [
    {
     "name": "stdout",
     "output_type": "stream",
     "text": [
      "Total venues available: 19\n"
     ]
    }
   ],
   "source": [
    "selected_venues = selected_venues[selected_venues['rating'] != 0.0]\n",
    "print(\"Total venues available: {}\".format(selected_venues.shape[0]))"
   ]
  },
  {
   "cell_type": "markdown",
   "metadata": {},
   "source": [
    "## Methodology <a name=\"methodology\"></a>\n",
    "\n",
    "This project aims at identifying the venues in Indore based on their rating and average costs. This would enable any visitor to identify the venues he/she wants to visit based on their rating and cost preference.\n",
    "\n",
    "As a first step, we retrieved the **data from two APIs (Foursquare and Zomato)**. We extract venue information from the center of Indore, upto a distance of 4 Km. The latitude and longitude values are then used to fetch venue rating and price from Zomato.\n",
    "\n",
    "Secondly, we then **explored the data** retrieved from the two APIs on the map and identified the top category types. The **data from the two sources is carefully combined** based on the name, latitude and longitude values from the two sources. The final dataset would include the rating and price values for each venue.\n",
    "\n",
    "Next, we'll **analyse the data** that we created based on the ratings and price of each venue. We'll **identify places where many venues are located** so that any visitor can go to one place and enjoy the option to choose amongst many venue options. We'll also explore **areas that are high rated and those that are low rated** while also plotting the **map of high and low priced venues**. Lastly, we'll **cluster the venues** based on the available information of each venue. This will allow us to clearly identify which venues can be recommended and with what characteristics.\n",
    "\n",
    "Finally, we'll discuss and conclude which venues to be explored based on visitor requirement of rating and cost."
   ]
  },
  {
   "cell_type": "markdown",
   "metadata": {},
   "source": [
    "## Analysis <a name=\"analysis\"></a>\n",
    "\n",
    "The complete dataset is now in its final form. \n",
    "\n",
    "We will **inspect these venues based on their rating**. The rating of a venue are based on user reviews and belongs to a range from 1 to 5. We'll also **analyse the venues based on their price per person as well as the price range**. "
   ]
  },
  {
   "cell_type": "markdown",
   "metadata": {},
   "source": [
    "### Categories\n",
    "\n",
    "We have various types of venues in the final dataset. We will take a look at the venues and check which are the majority venue categories in the list."
   ]
  },
  {
   "cell_type": "code",
   "execution_count": 117,
   "metadata": {},
   "outputs": [
    {
     "data": {
      "text/plain": [
       "<BarContainer object of 15 artists>"
      ]
     },
     "execution_count": 117,
     "metadata": {},
     "output_type": "execute_result"
    },
    {
     "data": {
      "image/png": "[encoded data removed]",
      "text/plain": [
       "<Figure size 1440x864 with 1 Axes>"
      ]
     },
     "metadata": {
      "needs_background": "light"
     },
     "output_type": "display_data"
    }
   ],
   "source": [
    "venue_distribution = selected_venues['categories'].value_counts()\n",
    "colors = cm.rainbow(np.linspace(0, 1, len(venue_distribution.index)))\n",
    "plt.figure(figsize = (20, 12))\n",
    "plt.xticks(rotation = 90)\n",
    "plt.xlabel(\"Venue category\", fontsize = 16)\n",
    "plt.ylabel(\"Count\", fontsize = 16)\n",
    "plt.title(\"Count of venues of each category\", fontsize = 16)\n",
    "plt.bar(venue_distribution.index, venue_distribution.values, color = colors)"
   ]
  },
  {
   "cell_type": "markdown",
   "metadata": {},
   "source": [
    "As we can see the majority venues are **Shopping mall** and **Indian Restaurant**. So, if as a tourist, you're looking for cafes and Indian restaurants, you're in luck."
   ]
  },
  {
   "cell_type": "markdown",
   "metadata": {},
   "source": [
    "### Rating\n",
    "\n",
    "Rating of a venue is an important factor on which a visitor decides whether it is worth it to visit the place. To cater to this, we will first see what is the average rating for all the venues in the city. Next, we will plot the venues on the map and color code them."
   ]
  },
  {
   "cell_type": "markdown",
   "metadata": {},
   "source": [
    "We'll first identify the various rating values and plot them as a bar plot with their counts to see the most common rating."
   ]
  },
  {
   "cell_type": "code",
   "execution_count": 118,
   "metadata": {},
   "outputs": [
    {
     "data": {
      "text/plain": [
       "Text(0.5, 1.0, 'Count of venues with given rating')"
      ]
     },
     "execution_count": 118,
     "metadata": {},
     "output_type": "execute_result"
    },
    {
     "data": {
      "image/png": "[encoded data removed]",
      "text/plain": [
       "<Figure size 1440x864 with 1 Axes>"
      ]
     },
     "metadata": {
      "needs_background": "light"
     },
     "output_type": "display_data"
    }
   ],
   "source": [
    "selected_venues['rating'] = selected_venues['rating'].astype(float)\n",
    "rating = selected_venues['rating'].value_counts().sort_index()\n",
    "plt.figure(figsize = (20, 12))\n",
    "plt.bar(rating.index, rating.values, color = cm.rainbow(np.linspace(0, 1, len(rating.index))))\n",
    "plt.xlabel(\"Rating\", fontsize = 16)\n",
    "plt.ylabel(\"Count\", fontsize = 16)\n",
    "plt.title(\"Count of venues with given rating\", fontsize = 16)"
   ]
  },
  {
   "cell_type": "markdown",
   "metadata": {},
   "source": [
    "From the plot above, it is clear that **majority venues** have their **rating close to 4**."
   ]
  },
  {
   "cell_type": "markdown",
   "metadata": {},
   "source": [
    "Let's create bins for various ratings and plot them in different colors on the map. The ratings will be divided between 4 bins:\n",
    "* 1 to 2\n",
    "* 2 to 3\n",
    "* 3 to 4\n",
    "* 4 to 5"
   ]
  },
  {
   "cell_type": "code",
   "execution_count": 119,
   "metadata": {},
   "outputs": [],
   "source": [
    "bins = [1.0, 2.0, 3.0, 4.0, 5.0]\n",
    "labels = ['Low', 'Okay', 'Good', 'Very good']\n",
    "selected_venues['rating_bin'] = pd.cut(selected_venues['rating'].astype(float), bins = bins, labels = labels, include_lowest = True)"
   ]
  },
  {
   "cell_type": "markdown",
   "metadata": {},
   "source": [
    "Now, we will plot the venues on the map."
   ]
  },
  {
   "cell_type": "code",
   "execution_count": 120,
   "metadata": {},
   "outputs": [
    {
     "data": {
      "text/html": [
       "<div style=\"width:100%;\"><div style=\"position:relative;width:100%;height:0;padding-bottom:60%;\"><iframe src=\"data:text/html;charset=utf-8;base64,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\" style=\"position:absolute;width:100%;height:100%;left:0;top:0;border:none !important;\" allowfullscreen webkitallowfullscreen mozallowfullscreen></iframe></div></div>"
      ],
      "text/plain": [
       "<folium.folium.Map at 0x7f10486e4da0>"
      ]
     },
     "execution_count": 120,
     "metadata": {},
     "output_type": "execute_result"
    }
   ],
   "source": [
    "color_map = {'Low': 'red', 'Okay': 'orange', 'Good': 'green', 'Very good': 'darkgreen'}\n",
    "\n",
    "indore_map = folium.Map(location = [IDR_LATITUDE, IDR_LONGITUDE], zoom_start = 13)\n",
    "\n",
    "for name, address, latitude, longitude, rating_bin in zip(selected_venues['venue'], \n",
    "                                                          selected_venues['address'], \n",
    "                                                          selected_venues['latitude'], \n",
    "                                                          selected_venues['longitude'], \n",
    "                                                          selected_venues['rating_bin']):\n",
    "    label = '{}, {}'.format(name, address)\n",
    "    label = folium.Popup(label, parse_html = True)\n",
    "    folium.Marker(\n",
    "        [latitude, longitude],\n",
    "        icon = folium.Icon(color = color_map[rating_bin]),\n",
    "        popup = label).add_to(indore_map)  \n",
    "\n",
    "\n",
    "indore_map"
   ]
  },
  {
   "cell_type": "markdown",
   "metadata": {},
   "source": [
    "The map has the location of all the venues. It appears that many venues are located near about **MG Road** and **Race Course Road ** with rating above 3. If someone wants to explore new venues, they should definitely check out these places."
   ]
  },
  {
   "cell_type": "markdown",
   "metadata": {},
   "source": [
    "### Price\n",
    "\n",
    "We will now take a look the venues based on the price values. We have two price features for our venues, one is `average_price` which defines the average cost for one person and the other is `price_range` which determines the price range as defined by Zomato."
   ]
  },
  {
   "cell_type": "markdown",
   "metadata": {},
   "source": [
    "We will first explore the `average_price` using a scatter plot between the price and the count of venues with that average price. We'll size the points based on the price to highlight their price."
   ]
  },
  {
   "cell_type": "code",
   "execution_count": 122,
   "metadata": {},
   "outputs": [
    {
     "data": {
      "text/plain": [
       "Text(0.5, 1.0, 'Count of venues with given average price')"
      ]
     },
     "execution_count": 122,
     "metadata": {},
     "output_type": "execute_result"
    },
    {
     "data": {
      "image/png": "[encoded data removed]",
      "text/plain": [
       "<Figure size 1440x864 with 1 Axes>"
      ]
     },
     "metadata": {
      "needs_background": "light"
     },
     "output_type": "display_data"
    }
   ],
   "source": [
    "average_prices = selected_venues['average_price'].value_counts().sort_index()\n",
    "plt.figure(figsize = (20, 12))\n",
    "plt.scatter(average_prices.index, \n",
    "            average_prices.values, \n",
    "            s = average_prices.index*10, \n",
    "            c = cm.rainbow(np.linspace(0, 1, len(average_prices.index))))\n",
    "plt.xlabel(\"Price per person\", fontsize = 16)\n",
    "plt.ylabel(\"Venue count\", fontsize = 16)\n",
    "plt.title(\"Count of venues with given average price\", fontsize = 16)"
   ]
  },
  {
   "cell_type": "markdown",
   "metadata": {},
   "source": [
    "From the plot above we can see that a large number of venues have an average price between Rs 200 and Rs 400."
   ]
  },
  {
   "cell_type": "markdown",
   "metadata": {},
   "source": [
    "Users might also be interested in going to a place that fits in their budget. I'll use the `price_range` column to plot the venues on a map. We'll represent the venues with lower price in green and move towards red as the price increases."
   ]
  },
  {
   "cell_type": "code",
   "execution_count": 124,
   "metadata": {},
   "outputs": [
    {
     "data": {
      "text/html": [
       "<div style=\"width:100%;\"><div style=\"position:relative;width:100%;height:0;padding-bottom:60%;\"><iframe src=\"data:text/html;charset=utf-8;base64,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\" style=\"position:absolute;width:100%;height:100%;left:0;top:0;border:none !important;\" allowfullscreen webkitallowfullscreen mozallowfullscreen></iframe></div></div>"
      ],
      "text/plain": [
       "<folium.folium.Map at 0x7f104876db70>"
      ]
     },
     "execution_count": 124,
     "metadata": {},
     "output_type": "execute_result"
    }
   ],
   "source": [
    "color_map = {'1.0': 'green', '2.0': 'darkgreen', '3.0': 'orange', '4.0': 'red'}\n",
    "\n",
    "indore_map = folium.Map(location = [IDR_LATITUDE, IDR_LONGITUDE], zoom_start = 13)\n",
    "\n",
    "for name, address, latitude, longitude, price_range in zip(selected_venues['venue'], \n",
    "                                                           selected_venues['address'], \n",
    "                                                           selected_venues['latitude'], \n",
    "                                                           selected_venues['longitude'], \n",
    "                                                           selected_venues['price_range'].astype(str)):\n",
    "    label = '{}, {}'.format(name, address)\n",
    "    label = folium.Popup(label, parse_html = True)\n",
    "    folium.Marker(\n",
    "        [latitude, longitude],\n",
    "        icon = folium.Icon(color = color_map[price_range]),\n",
    "        popup = label).add_to(indore_map)  \n",
    "\n",
    "#Indore_map.save(\"maps/Venues Prices.html\")\n",
    "indore_map"
   ]
  },
  {
   "cell_type": "markdown",
   "metadata": {},
   "source": []
  },
  {
   "cell_type": "markdown",
   "metadata": {},
   "source": [
    "### Clustering\n",
    "\n",
    "We will now cluster all these venues based on their price range, location and more to identify similar venues and the relationship amongst them. We'll cluster the venues into two separate groups."
   ]
  },
  {
   "cell_type": "code",
   "execution_count": 125,
   "metadata": {},
   "outputs": [
    {
     "data": {
      "text/html": [
       "<div>\n",
       "<style scoped>\n",
       "    .dataframe tbody tr th:only-of-type {\n",
       "        vertical-align: middle;\n",
       "    }\n",
       "\n",
       "    .dataframe tbody tr th {\n",
       "        vertical-align: top;\n",
       "    }\n",
       "\n",
       "    .dataframe thead th {\n",
       "        text-align: right;\n",
       "    }\n",
       "</style>\n",
       "<table border=\"1\" class=\"dataframe\">\n",
       "  <thead>\n",
       "    <tr style=\"text-align: right;\">\n",
       "      <th></th>\n",
       "      <th>cluster_labels</th>\n",
       "      <th>categories</th>\n",
       "      <th>venue</th>\n",
       "      <th>latitude</th>\n",
       "      <th>longitude</th>\n",
       "      <th>price_range</th>\n",
       "      <th>rating</th>\n",
       "      <th>address</th>\n",
       "      <th>average_price</th>\n",
       "      <th>rating_bin</th>\n",
       "    </tr>\n",
       "  </thead>\n",
       "  <tbody>\n",
       "    <tr>\n",
       "      <th>0</th>\n",
       "      <td>0</td>\n",
       "      <td>Plaza</td>\n",
       "      <td>Chaap Adda</td>\n",
       "      <td>22.7241</td>\n",
       "      <td>75.8848</td>\n",
       "      <td>1.0</td>\n",
       "      <td>3.6</td>\n",
       "      <td>Shop 56, Lower Ground 02, One Centre, New Pala...</td>\n",
       "      <td>150.0</td>\n",
       "      <td>Good</td>\n",
       "    </tr>\n",
       "    <tr>\n",
       "      <th>1</th>\n",
       "      <td>0</td>\n",
       "      <td>Sandwich Place</td>\n",
       "      <td>Prem Prakash</td>\n",
       "      <td>22.7035</td>\n",
       "      <td>75.8555</td>\n",
       "      <td>2.0</td>\n",
       "      <td>3.7</td>\n",
       "      <td>Prem Nagar Square, Manik Bagh Overbridge Corne...</td>\n",
       "      <td>175.0</td>\n",
       "      <td>Good</td>\n",
       "    </tr>\n",
       "    <tr>\n",
       "      <th>2</th>\n",
       "      <td>0</td>\n",
       "      <td>Ice Cream Shop</td>\n",
       "      <td>Top 'N' Town</td>\n",
       "      <td>22.7257</td>\n",
       "      <td>75.8775</td>\n",
       "      <td>1.0</td>\n",
       "      <td>4.1</td>\n",
       "      <td>14/8, Race Course Road, YN Road, Indore</td>\n",
       "      <td>100.0</td>\n",
       "      <td>Very good</td>\n",
       "    </tr>\n",
       "    <tr>\n",
       "      <th>3</th>\n",
       "      <td>0</td>\n",
       "      <td>Ice Cream Shop</td>\n",
       "      <td>Sheetal Gazak &amp; Kulfi</td>\n",
       "      <td>22.7209</td>\n",
       "      <td>75.8739</td>\n",
       "      <td>1.0</td>\n",
       "      <td>4.1</td>\n",
       "      <td>Near Rajani Bhawan, YN Road, Indore</td>\n",
       "      <td>125.0</td>\n",
       "      <td>Very good</td>\n",
       "    </tr>\n",
       "    <tr>\n",
       "      <th>5</th>\n",
       "      <td>0</td>\n",
       "      <td>Cafeteria</td>\n",
       "      <td>Mr. Beans</td>\n",
       "      <td>22.7232</td>\n",
       "      <td>75.8967</td>\n",
       "      <td>3.0</td>\n",
       "      <td>4.3</td>\n",
       "      <td>100, Saket, Old Palasia, Indore</td>\n",
       "      <td>400.0</td>\n",
       "      <td>Very good</td>\n",
       "    </tr>\n",
       "  </tbody>\n",
       "</table>\n",
       "</div>"
      ],
      "text/plain": [
       "   cluster_labels      categories                  venue  latitude  longitude  \\\n",
       "0               0           Plaza             Chaap Adda   22.7241    75.8848   \n",
       "1               0  Sandwich Place           Prem Prakash   22.7035    75.8555   \n",
       "2               0  Ice Cream Shop           Top 'N' Town   22.7257    75.8775   \n",
       "3               0  Ice Cream Shop  Sheetal Gazak & Kulfi   22.7209    75.8739   \n",
       "5               0       Cafeteria              Mr. Beans   22.7232    75.8967   \n",
       "\n",
       "   price_range  rating                                            address  \\\n",
       "0          1.0     3.6  Shop 56, Lower Ground 02, One Centre, New Pala...   \n",
       "1          2.0     3.7  Prem Nagar Square, Manik Bagh Overbridge Corne...   \n",
       "2          1.0     4.1            14/8, Race Course Road, YN Road, Indore   \n",
       "3          1.0     4.1                Near Rajani Bhawan, YN Road, Indore   \n",
       "5          3.0     4.3                    100, Saket, Old Palasia, Indore   \n",
       "\n",
       "   average_price rating_bin  \n",
       "0          150.0       Good  \n",
       "1          175.0       Good  \n",
       "2          100.0  Very good  \n",
       "3          125.0  Very good  \n",
       "5          400.0  Very good  "
      ]
     },
     "execution_count": 125,
     "metadata": {},
     "output_type": "execute_result"
    }
   ],
   "source": [
    "from sklearn.cluster import KMeans\n",
    "\n",
    "NO_OF_CLUSTERS = 2\n",
    "\n",
    "clustering = selected_venues.drop(['venue', 'address', 'rating_bin', 'categories'], 1)\n",
    "kMeans = KMeans(n_clusters = NO_OF_CLUSTERS, random_state = 0).fit(clustering)\n",
    "selected_venues.insert(0, 'cluster_labels', kMeans.labels_)\n",
    "selected_venues.head(5)"
   ]
  },
  {
   "cell_type": "code",
   "execution_count": 129,
   "metadata": {},
   "outputs": [
    {
     "data": {
      "text/html": [
       "<div style=\"width:100%;\"><div style=\"position:relative;width:100%;height:0;padding-bottom:60%;\"><iframe src=\"data:text/html;charset=utf-8;base64,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\" style=\"position:absolute;width:100%;height:100%;left:0;top:0;border:none !important;\" allowfullscreen webkitallowfullscreen mozallowfullscreen></iframe></div></div>"
      ],
      "text/plain": [
       "<folium.folium.Map at 0x7f10483830b8>"
      ]
     },
     "execution_count": 129,
     "metadata": {},
     "output_type": "execute_result"
    }
   ],
   "source": [
    "indore_map = folium.Map(location = [IDR_LATITUDE, IDR_LONGITUDE], zoom_start = 13)\n",
    "color_map = { 0: 'green', 1: 'red'}\n",
    "\n",
    "# add venues to the map\n",
    "markers_colors = []\n",
    "for venue, address, cluster, latitude, longitude in zip(selected_venues['venue'], \n",
    "                                                        selected_venues['address'], \n",
    "                                                        selected_venues['cluster_labels'], \n",
    "                                                        selected_venues['latitude'], \n",
    "                                                        selected_venues['longitude']):\n",
    "    label = folium.Popup(str(venue) + ', ' + str(address), parse_html = True)\n",
    "    folium.CircleMarker(\n",
    "        [latitude, longitude],\n",
    "        radius = 5,\n",
    "        popup = label,\n",
    "        color = color_map[cluster],\n",
    "        fill = True,\n",
    "        fill_color = color_map[cluster],\n",
    "        fill_opacity = 0.7).add_to(indore_map)\n",
    "\n",
    "# add cluster centers to the map\n",
    "for index, cluster in enumerate(kMeans.cluster_centers_):\n",
    "    latitude = cluster[0]\n",
    "    longitude = cluster[1]\n",
    "    label = folium.Popup(\"Cluster: \" + str(index), parse_html = True)\n",
    "    folium.CircleMarker(\n",
    "        [latitude, longitude],\n",
    "        radius = 10,\n",
    "        popup = label,\n",
    "        color = color_map[index],\n",
    "        fill = True,\n",
    "        fill_color = color_map[index],\n",
    "        fill_opacity = 0.7).add_to(indore_map)\n",
    "\n",
    "indore_map"
   ]
  },
  {
   "cell_type": "markdown",
   "metadata": {},
   "source": [
    "From the map, we see the two clusters:\n",
    "1. The first cluster is spread across the whole city and includes the majority venues.\n",
    "2. The second cluster is very sparsely spread and has very limited venues."
   ]
  },
  {
   "cell_type": "markdown",
   "metadata": {},
   "source": [
    "I'll also check the venues of the two clusters."
   ]
  },
  {
   "cell_type": "code",
   "execution_count": 130,
   "metadata": {},
   "outputs": [
    {
     "name": "stdout",
     "output_type": "stream",
     "text": [
      "Cluster 0\n"
     ]
    },
    {
     "data": {
      "text/html": [
       "<div>\n",
       "<style scoped>\n",
       "    .dataframe tbody tr th:only-of-type {\n",
       "        vertical-align: middle;\n",
       "    }\n",
       "\n",
       "    .dataframe tbody tr th {\n",
       "        vertical-align: top;\n",
       "    }\n",
       "\n",
       "    .dataframe thead th {\n",
       "        text-align: right;\n",
       "    }\n",
       "</style>\n",
       "<table border=\"1\" class=\"dataframe\">\n",
       "  <thead>\n",
       "    <tr style=\"text-align: right;\">\n",
       "      <th></th>\n",
       "      <th>cluster_labels</th>\n",
       "      <th>categories</th>\n",
       "      <th>venue</th>\n",
       "      <th>latitude</th>\n",
       "      <th>longitude</th>\n",
       "      <th>price_range</th>\n",
       "      <th>rating</th>\n",
       "      <th>address</th>\n",
       "      <th>average_price</th>\n",
       "      <th>rating_bin</th>\n",
       "    </tr>\n",
       "  </thead>\n",
       "  <tbody>\n",
       "    <tr>\n",
       "      <th>0</th>\n",
       "      <td>0</td>\n",
       "      <td>Plaza</td>\n",
       "      <td>Chaap Adda</td>\n",
       "      <td>22.7241</td>\n",
       "      <td>75.8848</td>\n",
       "      <td>1.0</td>\n",
       "      <td>3.6</td>\n",
       "      <td>Shop 56, Lower Ground 02, One Centre, New Pala...</td>\n",
       "      <td>150.0</td>\n",
       "      <td>Good</td>\n",
       "    </tr>\n",
       "    <tr>\n",
       "      <th>1</th>\n",
       "      <td>0</td>\n",
       "      <td>Sandwich Place</td>\n",
       "      <td>Prem Prakash</td>\n",
       "      <td>22.7035</td>\n",
       "      <td>75.8555</td>\n",
       "      <td>2.0</td>\n",
       "      <td>3.7</td>\n",
       "      <td>Prem Nagar Square, Manik Bagh Overbridge Corne...</td>\n",
       "      <td>175.0</td>\n",
       "      <td>Good</td>\n",
       "    </tr>\n",
       "    <tr>\n",
       "      <th>2</th>\n",
       "      <td>0</td>\n",
       "      <td>Ice Cream Shop</td>\n",
       "      <td>Top 'N' Town</td>\n",
       "      <td>22.7257</td>\n",
       "      <td>75.8775</td>\n",
       "      <td>1.0</td>\n",
       "      <td>4.1</td>\n",
       "      <td>14/8, Race Course Road, YN Road, Indore</td>\n",
       "      <td>100.0</td>\n",
       "      <td>Very good</td>\n",
       "    </tr>\n",
       "    <tr>\n",
       "      <th>3</th>\n",
       "      <td>0</td>\n",
       "      <td>Ice Cream Shop</td>\n",
       "      <td>Sheetal Gazak &amp; Kulfi</td>\n",
       "      <td>22.7209</td>\n",
       "      <td>75.8739</td>\n",
       "      <td>1.0</td>\n",
       "      <td>4.1</td>\n",
       "      <td>Near Rajani Bhawan, YN Road, Indore</td>\n",
       "      <td>125.0</td>\n",
       "      <td>Very good</td>\n",
       "    </tr>\n",
       "    <tr>\n",
       "      <th>4</th>\n",
       "      <td>0</td>\n",
       "      <td>Cafeteria</td>\n",
       "      <td>Mr. Beans</td>\n",
       "      <td>22.7232</td>\n",
       "      <td>75.8967</td>\n",
       "      <td>3.0</td>\n",
       "      <td>4.3</td>\n",
       "      <td>100, Saket, Old Palasia, Indore</td>\n",
       "      <td>400.0</td>\n",
       "      <td>Very good</td>\n",
       "    </tr>\n",
       "    <tr>\n",
       "      <th>5</th>\n",
       "      <td>0</td>\n",
       "      <td>Coffee Shop</td>\n",
       "      <td>Cafe Coffee Day</td>\n",
       "      <td>22.6977</td>\n",
       "      <td>75.8772</td>\n",
       "      <td>2.0</td>\n",
       "      <td>3.7</td>\n",
       "      <td>BCM City Building, AB Road, Near Navalakha Squ...</td>\n",
       "      <td>250.0</td>\n",
       "      <td>Good</td>\n",
       "    </tr>\n",
       "    <tr>\n",
       "      <th>6</th>\n",
       "      <td>0</td>\n",
       "      <td>Shopping Mall</td>\n",
       "      <td>Cafe Coffee Day</td>\n",
       "      <td>22.7362</td>\n",
       "      <td>75.8911</td>\n",
       "      <td>2.0</td>\n",
       "      <td>3.3</td>\n",
       "      <td>Inside Hotel Ginger, Near Shoppers Stop Buildi...</td>\n",
       "      <td>250.0</td>\n",
       "      <td>Good</td>\n",
       "    </tr>\n",
       "    <tr>\n",
       "      <th>7</th>\n",
       "      <td>0</td>\n",
       "      <td>Indian Restaurant</td>\n",
       "      <td>The Roof</td>\n",
       "      <td>22.7240</td>\n",
       "      <td>75.8856</td>\n",
       "      <td>3.0</td>\n",
       "      <td>3.5</td>\n",
       "      <td>Hotel Kanchan Tilak, 582/2, MG Road, New Palas...</td>\n",
       "      <td>450.0</td>\n",
       "      <td>Good</td>\n",
       "    </tr>\n",
       "    <tr>\n",
       "      <th>8</th>\n",
       "      <td>0</td>\n",
       "      <td>Tea Room</td>\n",
       "      <td>The Chai Bar</td>\n",
       "      <td>22.7253</td>\n",
       "      <td>75.8830</td>\n",
       "      <td>1.0</td>\n",
       "      <td>3.9</td>\n",
       "      <td>G 1, Chetak Vihar, 7 R.S Bhandari Marg, Near 5...</td>\n",
       "      <td>150.0</td>\n",
       "      <td>Good</td>\n",
       "    </tr>\n",
       "    <tr>\n",
       "      <th>9</th>\n",
       "      <td>0</td>\n",
       "      <td>Hot Dog Joint</td>\n",
       "      <td>Johny Hot Dog</td>\n",
       "      <td>22.7245</td>\n",
       "      <td>75.8844</td>\n",
       "      <td>1.0</td>\n",
       "      <td>4.6</td>\n",
       "      <td>Shop UD-49-50-51, Arcade Silver 56/1, New Pala...</td>\n",
       "      <td>75.0</td>\n",
       "      <td>Very good</td>\n",
       "    </tr>\n",
       "  </tbody>\n",
       "</table>\n",
       "</div>"
      ],
      "text/plain": [
       "   cluster_labels         categories                  venue  latitude  \\\n",
       "0               0              Plaza             Chaap Adda   22.7241   \n",
       "1               0     Sandwich Place           Prem Prakash   22.7035   \n",
       "2               0     Ice Cream Shop           Top 'N' Town   22.7257   \n",
       "3               0     Ice Cream Shop  Sheetal Gazak & Kulfi   22.7209   \n",
       "4               0          Cafeteria              Mr. Beans   22.7232   \n",
       "5               0        Coffee Shop        Cafe Coffee Day   22.6977   \n",
       "6               0      Shopping Mall        Cafe Coffee Day   22.7362   \n",
       "7               0  Indian Restaurant               The Roof   22.7240   \n",
       "8               0           Tea Room           The Chai Bar   22.7253   \n",
       "9               0      Hot Dog Joint          Johny Hot Dog   22.7245   \n",
       "\n",
       "   longitude  price_range  rating  \\\n",
       "0    75.8848          1.0     3.6   \n",
       "1    75.8555          2.0     3.7   \n",
       "2    75.8775          1.0     4.1   \n",
       "3    75.8739          1.0     4.1   \n",
       "4    75.8967          3.0     4.3   \n",
       "5    75.8772          2.0     3.7   \n",
       "6    75.8911          2.0     3.3   \n",
       "7    75.8856          3.0     3.5   \n",
       "8    75.8830          1.0     3.9   \n",
       "9    75.8844          1.0     4.6   \n",
       "\n",
       "                                             address  average_price rating_bin  \n",
       "0  Shop 56, Lower Ground 02, One Centre, New Pala...          150.0       Good  \n",
       "1  Prem Nagar Square, Manik Bagh Overbridge Corne...          175.0       Good  \n",
       "2            14/8, Race Course Road, YN Road, Indore          100.0  Very good  \n",
       "3                Near Rajani Bhawan, YN Road, Indore          125.0  Very good  \n",
       "4                    100, Saket, Old Palasia, Indore          400.0  Very good  \n",
       "5  BCM City Building, AB Road, Near Navalakha Squ...          250.0       Good  \n",
       "6  Inside Hotel Ginger, Near Shoppers Stop Buildi...          250.0       Good  \n",
       "7  Hotel Kanchan Tilak, 582/2, MG Road, New Palas...          450.0       Good  \n",
       "8  G 1, Chetak Vihar, 7 R.S Bhandari Marg, Near 5...          150.0       Good  \n",
       "9  Shop UD-49-50-51, Arcade Silver 56/1, New Pala...           75.0  Very good  "
      ]
     },
     "execution_count": 130,
     "metadata": {},
     "output_type": "execute_result"
    }
   ],
   "source": [
    "result = selected_venues[selected_venues['cluster_labels'] == 0]\n",
    "print(\"Cluster 0\")\n",
    "result.head(10).reset_index(drop = True)"
   ]
  },
  {
   "cell_type": "code",
   "execution_count": 131,
   "metadata": {
    "scrolled": true
   },
   "outputs": [
    {
     "name": "stdout",
     "output_type": "stream",
     "text": [
      "These venues for cluster 0 have mean price range of 1.76 and rating spread around 3.94\n"
     ]
    }
   ],
   "source": [
    "print(\"These venues for cluster 0 have mean price range of {:.02f} and rating spread around {:.02f}\".\n",
    "      format(result['price_range'].mean(), result['rating'].astype(float).mean()))"
   ]
  },
  {
   "cell_type": "code",
   "execution_count": 132,
   "metadata": {},
   "outputs": [
    {
     "name": "stdout",
     "output_type": "stream",
     "text": [
      "Cluster 1\n"
     ]
    },
    {
     "data": {
      "text/html": [
       "<div>\n",
       "<style scoped>\n",
       "    .dataframe tbody tr th:only-of-type {\n",
       "        vertical-align: middle;\n",
       "    }\n",
       "\n",
       "    .dataframe tbody tr th {\n",
       "        vertical-align: top;\n",
       "    }\n",
       "\n",
       "    .dataframe thead th {\n",
       "        text-align: right;\n",
       "    }\n",
       "</style>\n",
       "<table border=\"1\" class=\"dataframe\">\n",
       "  <thead>\n",
       "    <tr style=\"text-align: right;\">\n",
       "      <th></th>\n",
       "      <th>cluster_labels</th>\n",
       "      <th>categories</th>\n",
       "      <th>venue</th>\n",
       "      <th>latitude</th>\n",
       "      <th>longitude</th>\n",
       "      <th>price_range</th>\n",
       "      <th>rating</th>\n",
       "      <th>address</th>\n",
       "      <th>average_price</th>\n",
       "      <th>rating_bin</th>\n",
       "    </tr>\n",
       "  </thead>\n",
       "  <tbody>\n",
       "    <tr>\n",
       "      <th>0</th>\n",
       "      <td>1</td>\n",
       "      <td>Hookah Bar</td>\n",
       "      <td>Sky Blue Sports Bar</td>\n",
       "      <td>22.7441</td>\n",
       "      <td>75.8942</td>\n",
       "      <td>4.0</td>\n",
       "      <td>3.5</td>\n",
       "      <td>3rd Floor, C21 Mall, AB Road, Vijay Nagar, Indore</td>\n",
       "      <td>900.0</td>\n",
       "      <td>Good</td>\n",
       "    </tr>\n",
       "    <tr>\n",
       "      <th>1</th>\n",
       "      <td>1</td>\n",
       "      <td>Shopping Mall</td>\n",
       "      <td>Sky Blue Sports Bar</td>\n",
       "      <td>22.7441</td>\n",
       "      <td>75.8942</td>\n",
       "      <td>4.0</td>\n",
       "      <td>3.5</td>\n",
       "      <td>3rd Floor, C21 Mall, AB Road, Vijay Nagar, Indore</td>\n",
       "      <td>900.0</td>\n",
       "      <td>Good</td>\n",
       "    </tr>\n",
       "  </tbody>\n",
       "</table>\n",
       "</div>"
      ],
      "text/plain": [
       "   cluster_labels     categories                venue  latitude  longitude  \\\n",
       "0               1     Hookah Bar  Sky Blue Sports Bar   22.7441    75.8942   \n",
       "1               1  Shopping Mall  Sky Blue Sports Bar   22.7441    75.8942   \n",
       "\n",
       "   price_range  rating                                            address  \\\n",
       "0          4.0     3.5  3rd Floor, C21 Mall, AB Road, Vijay Nagar, Indore   \n",
       "1          4.0     3.5  3rd Floor, C21 Mall, AB Road, Vijay Nagar, Indore   \n",
       "\n",
       "   average_price rating_bin  \n",
       "0          900.0       Good  \n",
       "1          900.0       Good  "
      ]
     },
     "execution_count": 132,
     "metadata": {},
     "output_type": "execute_result"
    }
   ],
   "source": [
    "result = selected_venues[selected_venues['cluster_labels'] == 1]\n",
    "print(\"Cluster 1\")\n",
    "result.head(10).reset_index(drop = True)"
   ]
  },
  {
   "cell_type": "code",
   "execution_count": 133,
   "metadata": {},
   "outputs": [
    {
     "name": "stdout",
     "output_type": "stream",
     "text": [
      "These venues for cluster 1 have mean price range of 4.00 and rating spread around 3.50\n"
     ]
    }
   ],
   "source": [
    "print(\"These venues for cluster 1 have mean price range of {:.02f} and rating spread around {:.02f}\".\n",
    "      format(result['price_range'].mean(), result['rating'].astype(float).mean()))"
   ]
  },
  {
   "cell_type": "markdown",
   "metadata": {},
   "source": [
    "#### Results and Discussion <a name=\"results\"></a>\n",
    "\n",
    "Based on our analysis above, we can draw a number of conclusions that will be useful to aid any visitor visiting the city of Indore, India.\n",
    "\n",
    "After collecting data from the **Foursquare** and **Zomato** APIs, we got a list of 61 different venues. However, not all venues from the two APIs were identical. Hence, we had to inspect their latitude and longitude values as well as names to combine them and remove all the outliers.\n",
    "\n",
    "We identified that from the total set of venues, majority of them were **Shopping mall** and **Indian Restaurants**. A visitor who loves mall/Indian Restaurants would surely benefit from coming to Indore.\n",
    "\n",
    "While the complete range of ratings range from 1 to 5, the **majority venues have ratings close to 4**. This means that most restaurants provide **good quality food** which is liked by the people of the city, thus indicating the high rating. When we plot these venues on the map, we discover that there are clusters of venues around **MG Road and Race Course Road**. These clusters also have very **high ratings (more than 3)**.\n",
    "\n",
    "When we take a look at the price values of each venue, we explore that **many venues** have prices which are in the **range of Rs 200 to Rs 400 for one person**. However, the variation in prices is very large, given the complete range starts from Rs 100 and goes uptil Rs 1200. On plotting the venues based on their price range on the map, we discovered that venues located near.\n",
    "\n",
    "Finally, through clusters we identified that there are **many venues** which are **relatively lower priced but have an average rating of 3.57**. On the other hand, there are **few venues** which are **high priced and have average rating of 4.03**.\n",
    "\n",
    "A company can use this information to build up an online website/mobile application, to provide users with up to date information about various venues in the city based on the search criteria (name, rating and price)."
   ]
  },
  {
   "cell_type": "markdown",
   "metadata": {},
   "source": [
    "## Conclusion <a name=\"conclusion\"></a>\n",
    "\n",
    "The purpose of this project was to explore the places that a person visiting Indore could visit. The venues have been identified using Foursquare and Zomato API and have been plotted on the map. The map reveals that there are two major areas a person can visit: MG Road and Race Course Road Based on the visitor's venue rating and price requirements, he/she can choose amongst the three places."
   ]
  },
  {
   "cell_type": "code",
   "execution_count": null,
   "metadata": {},
   "outputs": [],
   "source": []
  },
  {
   "cell_type": "code",
   "execution_count": null,
   "metadata": {},
   "outputs": [],
   "source": []
  }
 ],
 "metadata": {
  "kernelspec": {
   "display_name": "Python",
   "language": "python",
   "name": "conda-env-python-py"
  },
  "language_info": {
   "codemirror_mode": {
    "name": "ipython",
    "version": 3
   },
   "file_extension": ".py",
   "mimetype": "text/x-python",
   "name": "python",
   "nbconvert_exporter": "python",
   "pygments_lexer": "ipython3",
   "version": "3.6.7"
  }
 },
 "nbformat": 4,
 "nbformat_minor": 4
}
